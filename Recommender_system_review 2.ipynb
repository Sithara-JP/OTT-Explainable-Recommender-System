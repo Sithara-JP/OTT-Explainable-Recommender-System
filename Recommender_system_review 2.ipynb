{
  "nbformat": 4,
  "nbformat_minor": 0,
  "metadata": {
    "colab": {
      "name": "Movie Recommender System.ipynb",
      "provenance": [],
      "collapsed_sections": [
        "e-gBnU-kmlmB",
        "yTEHrcyJaepc",
        "RooclOG7flqj",
        "IEA-cZZoaaxH",
        "zigzPcfnAbZ1",
        "KcURggFeGX8d"
      ]
    },
    "kernelspec": {
      "name": "python3",
      "display_name": "Python 3"
    },
    "language_info": {
      "name": "python"
    }
  },
  "cells": [
    {
      "cell_type": "markdown",
      "metadata": {
        "id": "fhWLLAMEGkYq"
      },
      "source": [
        "# **OTT EXPLAINABLE MOVIE RECOMMENDATION SYSTEM**"
      ]
    },
    {
      "cell_type": "code",
      "metadata": {
        "id": "Bkdgd097OgwW"
      },
      "source": [
        "import pandas as pd\n",
        "import seaborn as sns\n",
        "import matplotlib.pyplot as plt\n",
        "import numpy as np\n",
        "from sklearn.model_selection import train_test_split\n",
        "from sklearn.impute import SimpleImputer\n",
        "from sklearn.preprocessing import LabelEncoder\n",
        "from sklearn import preprocessing\n",
        "from sklearn.feature_selection import VarianceThreshold #removes all low-variance features.\n",
        "from sklearn.feature_extraction.text import CountVectorizer\n",
        "from sklearn.metrics.pairwise import cosine_similarity\n",
        "from sklearn.metrics import accuracy_score\n",
        "from sklearn.cluster import KMeans\n",
        "from sklearn.preprocessing import MinMaxScaler\n",
        "from sklearn import metrics\n",
        "from sklearn.tree import DecisionTreeClassifier\n",
        "from sklearn.neighbors import KNeighborsClassifier\n",
        "from sklearn.metrics import classification_report,confusion_matrix\n",
        "import sklearn.metrics as sm\n",
        "%matplotlib inline\n"
      ],
      "execution_count": null,
      "outputs": []
    },
    {
      "cell_type": "markdown",
      "metadata": {
        "id": "gqQBdDZ7Hlyg"
      },
      "source": [
        "**READING THE CSV FILE**"
      ]
    },
    {
      "cell_type": "code",
      "metadata": {
        "colab": {
          "base_uri": "https://localhost:8080/"
        },
        "id": "lt4SBfTMOqJY",
        "outputId": "94a923d5-fb32-4903-a554-9d16d79979fe"
      },
      "source": [
        "df = pd.read_csv('/content/Netflix_title_final.csv')\n",
        "df.head()"
      ],
      "execution_count": null,
      "outputs": [
        {
          "output_type": "execute_result",
          "data": {
            "text/html": [
              "<div>\n",
              "<style scoped>\n",
              "    .dataframe tbody tr th:only-of-type {\n",
              "        vertical-align: middle;\n",
              "    }\n",
              "\n",
              "    .dataframe tbody tr th {\n",
              "        vertical-align: top;\n",
              "    }\n",
              "\n",
              "    .dataframe thead th {\n",
              "        text-align: right;\n",
              "    }\n",
              "</style>\n",
              "<table border=\"1\" class=\"dataframe\">\n",
              "  <thead>\n",
              "    <tr style=\"text-align: right;\">\n",
              "      <th></th>\n",
              "      <th>title</th>\n",
              "      <th>director</th>\n",
              "      <th>cast</th>\n",
              "      <th>country</th>\n",
              "      <th>date_added</th>\n",
              "      <th>rated by</th>\n",
              "      <th>listed_in</th>\n",
              "      <th>description</th>\n",
              "      <th>type</th>\n",
              "      <th>show_id</th>\n",
              "      <th>release_year</th>\n",
              "      <th>duration</th>\n",
              "      <th>rating</th>\n",
              "    </tr>\n",
              "  </thead>\n",
              "  <tbody>\n",
              "    <tr>\n",
              "      <th>0</th>\n",
              "      <td>Chocolate - 1 Season</td>\n",
              "      <td>Toka McBaror</td>\n",
              "      <td>Ha Ji-won, Yoon Kye-sang, Jang Seung-jo, Kang ...</td>\n",
              "      <td>South Korea</td>\n",
              "      <td>November 30, 2019</td>\n",
              "      <td>TV-14</td>\n",
              "      <td>International TV Shows, Korean TV Shows, Roman...</td>\n",
              "      <td>Brought together by meaningful meals in the pa...</td>\n",
              "      <td>TV Show</td>\n",
              "      <td>81193313</td>\n",
              "      <td>2019</td>\n",
              "      <td>60</td>\n",
              "      <td>6.3</td>\n",
              "    </tr>\n",
              "    <tr>\n",
              "      <th>1</th>\n",
              "      <td>Guatemala: Heart of the Mayan World</td>\n",
              "      <td>Luis Ara, Ignacio Jaunsolo</td>\n",
              "      <td>Christian Morales</td>\n",
              "      <td>Unknown</td>\n",
              "      <td>November 30, 2019</td>\n",
              "      <td>G</td>\n",
              "      <td>Documentaries, International Movies</td>\n",
              "      <td>From Sierra de las Minas to Esquipulas, explor...</td>\n",
              "      <td>Movie</td>\n",
              "      <td>81197050</td>\n",
              "      <td>2019</td>\n",
              "      <td>67</td>\n",
              "      <td>7.2</td>\n",
              "    </tr>\n",
              "    <tr>\n",
              "      <th>2</th>\n",
              "      <td>The Zoya Factor</td>\n",
              "      <td>Abhishek Sharma</td>\n",
              "      <td>Sonam Kapoor, Dulquer Salmaan, Sanjay Kapoor, ...</td>\n",
              "      <td>India</td>\n",
              "      <td>November 30, 2019</td>\n",
              "      <td>TV-14</td>\n",
              "      <td>Comedies, Dramas, International Movies</td>\n",
              "      <td>A goofy copywriter unwittingly convinces the I...</td>\n",
              "      <td>Movie</td>\n",
              "      <td>81213894</td>\n",
              "      <td>2019</td>\n",
              "      <td>135</td>\n",
              "      <td>7.2</td>\n",
              "    </tr>\n",
              "    <tr>\n",
              "      <th>3</th>\n",
              "      <td>Atlantics</td>\n",
              "      <td>Mati Diop</td>\n",
              "      <td>Mama Sane, Amadou Mbow, Ibrahima Traore, Nicol...</td>\n",
              "      <td>France, Senegal, Belgium</td>\n",
              "      <td>November 29, 2019</td>\n",
              "      <td>TV-14</td>\n",
              "      <td>Dramas, Independent Movies, International Movies</td>\n",
              "      <td>Arranged to marry a rich man, young Ada is cru...</td>\n",
              "      <td>Movie</td>\n",
              "      <td>81082007</td>\n",
              "      <td>2019</td>\n",
              "      <td>106</td>\n",
              "      <td>6.3</td>\n",
              "    </tr>\n",
              "    <tr>\n",
              "      <th>4</th>\n",
              "      <td>Chip and Potato - 2 Seasons</td>\n",
              "      <td>Frank Oz</td>\n",
              "      <td>Abigail Oliver, Andrea Libman, Briana Buckmast...</td>\n",
              "      <td>Canada, United Kingdom</td>\n",
              "      <td>November 27, 2019</td>\n",
              "      <td>TV-Y</td>\n",
              "      <td>Kids' TV</td>\n",
              "      <td>Lovable pug Chip starts kindergarten, makes ne...</td>\n",
              "      <td>TV Show</td>\n",
              "      <td>80213643</td>\n",
              "      <td>2019</td>\n",
              "      <td>60</td>\n",
              "      <td>7.7</td>\n",
              "    </tr>\n",
              "  </tbody>\n",
              "</table>\n",
              "</div>"
            ],
            "text/plain": [
              "                                 title  ... rating\n",
              "0                 Chocolate - 1 Season  ...    6.3\n",
              "1  Guatemala: Heart of the Mayan World  ...    7.2\n",
              "2                      The Zoya Factor  ...    7.2\n",
              "3                            Atlantics  ...    6.3\n",
              "4          Chip and Potato - 2 Seasons  ...    7.7\n",
              "\n",
              "[5 rows x 13 columns]"
            ]
          },
          "metadata": {},
          "execution_count": 2
        }
      ]
    },
    {
      "cell_type": "code",
      "metadata": {
        "colab": {
          "base_uri": "https://localhost:8080/"
        },
        "id": "Uy9GECH18IC9",
        "outputId": "6b716375-aa28-4137-c9ea-65343bf41d14"
      },
      "source": [
        "fs=df.copy()\n",
        "fs.shape"
      ],
      "execution_count": null,
      "outputs": [
        {
          "output_type": "execute_result",
          "data": {
            "text/plain": [
              "(985, 13)"
            ]
          },
          "metadata": {},
          "execution_count": 3
        }
      ]
    },
    {
      "cell_type": "markdown",
      "metadata": {
        "id": "3u79nPX-E_ZH"
      },
      "source": [
        "**LABEL ENCODING**"
      ]
    },
    {
      "cell_type": "code",
      "metadata": {
        "id": "NrHY6sHQ-n4R"
      },
      "source": [
        "label_encoder = preprocessing.LabelEncoder()\n",
        "for column in fs:\n",
        "  fs[column]= label_encoder.fit_transform(fs[column]) #Here categorical features are encoded and stored in the same dataframe fs"
      ],
      "execution_count": null,
      "outputs": []
    },
    {
      "cell_type": "markdown",
      "metadata": {
        "id": "e-gBnU-kmlmB"
      },
      "source": [
        "#**FEATURE SCALING**"
      ]
    },
    {
      "cell_type": "code",
      "metadata": {
        "colab": {
          "base_uri": "https://localhost:8080/"
        },
        "id": "FdUi-J7q78Wy",
        "outputId": "0279cad2-b646-4229-b44e-2f80f4f23b2b"
      },
      "source": [
        "var_thres = VarianceThreshold(threshold=0)\n",
        "var_thres.fit(fs)"
      ],
      "execution_count": null,
      "outputs": [
        {
          "output_type": "execute_result",
          "data": {
            "text/plain": [
              "VarianceThreshold(threshold=0)"
            ]
          },
          "metadata": {},
          "execution_count": 5
        }
      ]
    },
    {
      "cell_type": "code",
      "metadata": {
        "colab": {
          "base_uri": "https://localhost:8080/"
        },
        "id": "tKmkagp97_9-",
        "outputId": "0ba99e22-1020-48fc-a829-b9c3b84bb607"
      },
      "source": [
        "var_thres.get_support()"
      ],
      "execution_count": null,
      "outputs": [
        {
          "output_type": "execute_result",
          "data": {
            "text/plain": [
              "array([ True,  True,  True,  True,  True,  True,  True,  True,  True,\n",
              "        True,  True,  True,  True])"
            ]
          },
          "metadata": {},
          "execution_count": 6
        }
      ]
    },
    {
      "cell_type": "code",
      "metadata": {
        "colab": {
          "base_uri": "https://localhost:8080/"
        },
        "id": "50Hmatzm8EwB",
        "outputId": "0aa2ce3a-a3b8-4def-bd05-25eb620b00d9"
      },
      "source": [
        "constant_columns=[column for column in fs.columns if column not in fs.columns[var_thres.get_support()]]\n",
        "print(len(constant_columns))\n",
        "constant_columns"
      ],
      "execution_count": null,
      "outputs": [
        {
          "output_type": "stream",
          "name": "stdout",
          "text": [
            "0\n"
          ]
        },
        {
          "output_type": "execute_result",
          "data": {
            "text/plain": [
              "[]"
            ]
          },
          "metadata": {},
          "execution_count": 7
        }
      ]
    },
    {
      "cell_type": "code",
      "metadata": {
        "colab": {
          "base_uri": "https://localhost:8080/"
        },
        "id": "Q6KHB1a-8FdC",
        "outputId": "64f8f9da-dcfa-44bb-f3c7-421e20b6445f"
      },
      "source": [
        "df.drop(constant_columns,axis=1,inplace=True)\n",
        "df.shape"
      ],
      "execution_count": null,
      "outputs": [
        {
          "output_type": "execute_result",
          "data": {
            "text/plain": [
              "(985, 13)"
            ]
          },
          "metadata": {},
          "execution_count": 8
        }
      ]
    },
    {
      "cell_type": "code",
      "metadata": {
        "colab": {
          "base_uri": "https://localhost:8080/"
        },
        "id": "G0LRhdDT8dqy",
        "outputId": "c4a79807-aab7-4cf4-a390-e57b126d687a"
      },
      "source": [
        "df = df.T\n",
        "print(df.duplicated().sum())\n",
        "df = df.T"
      ],
      "execution_count": null,
      "outputs": [
        {
          "output_type": "stream",
          "name": "stdout",
          "text": [
            "0\n"
          ]
        }
      ]
    },
    {
      "cell_type": "markdown",
      "metadata": {
        "id": "CfXIQ3HwGUQS"
      },
      "source": [
        "**CORRELATION**"
      ]
    },
    {
      "cell_type": "code",
      "metadata": {
        "colab": {
          "base_uri": "https://localhost:8080/"
        },
        "id": "e-3IhqJD8jRc",
        "outputId": "ecb46c5a-97bf-47ea-de9d-c3f32be5fead"
      },
      "source": [
        "fs.corr()"
      ],
      "execution_count": null,
      "outputs": [
        {
          "output_type": "execute_result",
          "data": {
            "text/html": [
              "<div>\n",
              "<style scoped>\n",
              "    .dataframe tbody tr th:only-of-type {\n",
              "        vertical-align: middle;\n",
              "    }\n",
              "\n",
              "    .dataframe tbody tr th {\n",
              "        vertical-align: top;\n",
              "    }\n",
              "\n",
              "    .dataframe thead th {\n",
              "        text-align: right;\n",
              "    }\n",
              "</style>\n",
              "<table border=\"1\" class=\"dataframe\">\n",
              "  <thead>\n",
              "    <tr style=\"text-align: right;\">\n",
              "      <th></th>\n",
              "      <th>title</th>\n",
              "      <th>director</th>\n",
              "      <th>cast</th>\n",
              "      <th>country</th>\n",
              "      <th>date_added</th>\n",
              "      <th>rated by</th>\n",
              "      <th>listed_in</th>\n",
              "      <th>description</th>\n",
              "      <th>type</th>\n",
              "      <th>show_id</th>\n",
              "      <th>release_year</th>\n",
              "      <th>duration</th>\n",
              "      <th>rating</th>\n",
              "    </tr>\n",
              "  </thead>\n",
              "  <tbody>\n",
              "    <tr>\n",
              "      <th>title</th>\n",
              "      <td>1.000000</td>\n",
              "      <td>0.002300</td>\n",
              "      <td>0.074846</td>\n",
              "      <td>0.020655</td>\n",
              "      <td>0.005145</td>\n",
              "      <td>0.018827</td>\n",
              "      <td>-0.034812</td>\n",
              "      <td>0.060331</td>\n",
              "      <td>-0.007337</td>\n",
              "      <td>-0.092970</td>\n",
              "      <td>-0.073743</td>\n",
              "      <td>0.062053</td>\n",
              "      <td>-0.012732</td>\n",
              "    </tr>\n",
              "    <tr>\n",
              "      <th>director</th>\n",
              "      <td>0.002300</td>\n",
              "      <td>1.000000</td>\n",
              "      <td>-0.044015</td>\n",
              "      <td>-0.012502</td>\n",
              "      <td>-0.021517</td>\n",
              "      <td>0.111823</td>\n",
              "      <td>0.096033</td>\n",
              "      <td>0.001448</td>\n",
              "      <td>0.386032</td>\n",
              "      <td>0.052112</td>\n",
              "      <td>0.021618</td>\n",
              "      <td>-0.224746</td>\n",
              "      <td>-0.040688</td>\n",
              "    </tr>\n",
              "    <tr>\n",
              "      <th>cast</th>\n",
              "      <td>0.074846</td>\n",
              "      <td>-0.044015</td>\n",
              "      <td>1.000000</td>\n",
              "      <td>-0.033956</td>\n",
              "      <td>-0.010441</td>\n",
              "      <td>0.008963</td>\n",
              "      <td>0.034817</td>\n",
              "      <td>-0.023193</td>\n",
              "      <td>0.003884</td>\n",
              "      <td>0.047997</td>\n",
              "      <td>-0.008971</td>\n",
              "      <td>0.063190</td>\n",
              "      <td>0.027670</td>\n",
              "    </tr>\n",
              "    <tr>\n",
              "      <th>country</th>\n",
              "      <td>0.020655</td>\n",
              "      <td>-0.012502</td>\n",
              "      <td>-0.033956</td>\n",
              "      <td>1.000000</td>\n",
              "      <td>0.059006</td>\n",
              "      <td>-0.114396</td>\n",
              "      <td>0.006537</td>\n",
              "      <td>0.044260</td>\n",
              "      <td>0.047698</td>\n",
              "      <td>-0.272086</td>\n",
              "      <td>-0.169149</td>\n",
              "      <td>-0.180636</td>\n",
              "      <td>0.001502</td>\n",
              "    </tr>\n",
              "    <tr>\n",
              "      <th>date_added</th>\n",
              "      <td>0.005145</td>\n",
              "      <td>-0.021517</td>\n",
              "      <td>-0.010441</td>\n",
              "      <td>0.059006</td>\n",
              "      <td>1.000000</td>\n",
              "      <td>-0.072702</td>\n",
              "      <td>-0.071701</td>\n",
              "      <td>-0.035813</td>\n",
              "      <td>-0.074119</td>\n",
              "      <td>0.021988</td>\n",
              "      <td>-0.052177</td>\n",
              "      <td>0.090292</td>\n",
              "      <td>-0.031433</td>\n",
              "    </tr>\n",
              "    <tr>\n",
              "      <th>rated by</th>\n",
              "      <td>0.018827</td>\n",
              "      <td>0.111823</td>\n",
              "      <td>0.008963</td>\n",
              "      <td>-0.114396</td>\n",
              "      <td>-0.072702</td>\n",
              "      <td>1.000000</td>\n",
              "      <td>0.268592</td>\n",
              "      <td>-0.007346</td>\n",
              "      <td>0.227355</td>\n",
              "      <td>0.294901</td>\n",
              "      <td>0.253872</td>\n",
              "      <td>-0.122537</td>\n",
              "      <td>-0.000689</td>\n",
              "    </tr>\n",
              "    <tr>\n",
              "      <th>listed_in</th>\n",
              "      <td>-0.034812</td>\n",
              "      <td>0.096033</td>\n",
              "      <td>0.034817</td>\n",
              "      <td>0.006537</td>\n",
              "      <td>-0.071701</td>\n",
              "      <td>0.268592</td>\n",
              "      <td>1.000000</td>\n",
              "      <td>-0.047119</td>\n",
              "      <td>0.272793</td>\n",
              "      <td>0.237928</td>\n",
              "      <td>0.211475</td>\n",
              "      <td>-0.262196</td>\n",
              "      <td>0.007596</td>\n",
              "    </tr>\n",
              "    <tr>\n",
              "      <th>description</th>\n",
              "      <td>0.060331</td>\n",
              "      <td>0.001448</td>\n",
              "      <td>-0.023193</td>\n",
              "      <td>0.044260</td>\n",
              "      <td>-0.035813</td>\n",
              "      <td>-0.007346</td>\n",
              "      <td>-0.047119</td>\n",
              "      <td>1.000000</td>\n",
              "      <td>0.000238</td>\n",
              "      <td>-0.106223</td>\n",
              "      <td>-0.073769</td>\n",
              "      <td>-0.074531</td>\n",
              "      <td>-0.020373</td>\n",
              "    </tr>\n",
              "    <tr>\n",
              "      <th>type</th>\n",
              "      <td>-0.007337</td>\n",
              "      <td>0.386032</td>\n",
              "      <td>0.003884</td>\n",
              "      <td>0.047698</td>\n",
              "      <td>-0.074119</td>\n",
              "      <td>0.227355</td>\n",
              "      <td>0.272793</td>\n",
              "      <td>0.000238</td>\n",
              "      <td>1.000000</td>\n",
              "      <td>0.078056</td>\n",
              "      <td>0.072817</td>\n",
              "      <td>-0.459747</td>\n",
              "      <td>-0.012297</td>\n",
              "    </tr>\n",
              "    <tr>\n",
              "      <th>show_id</th>\n",
              "      <td>-0.092970</td>\n",
              "      <td>0.052112</td>\n",
              "      <td>0.047997</td>\n",
              "      <td>-0.272086</td>\n",
              "      <td>0.021988</td>\n",
              "      <td>0.294901</td>\n",
              "      <td>0.237928</td>\n",
              "      <td>-0.106223</td>\n",
              "      <td>0.078056</td>\n",
              "      <td>1.000000</td>\n",
              "      <td>0.643977</td>\n",
              "      <td>-0.183813</td>\n",
              "      <td>0.017506</td>\n",
              "    </tr>\n",
              "    <tr>\n",
              "      <th>release_year</th>\n",
              "      <td>-0.073743</td>\n",
              "      <td>0.021618</td>\n",
              "      <td>-0.008971</td>\n",
              "      <td>-0.169149</td>\n",
              "      <td>-0.052177</td>\n",
              "      <td>0.253872</td>\n",
              "      <td>0.211475</td>\n",
              "      <td>-0.073769</td>\n",
              "      <td>0.072817</td>\n",
              "      <td>0.643977</td>\n",
              "      <td>1.000000</td>\n",
              "      <td>-0.196401</td>\n",
              "      <td>0.049563</td>\n",
              "    </tr>\n",
              "    <tr>\n",
              "      <th>duration</th>\n",
              "      <td>0.062053</td>\n",
              "      <td>-0.224746</td>\n",
              "      <td>0.063190</td>\n",
              "      <td>-0.180636</td>\n",
              "      <td>0.090292</td>\n",
              "      <td>-0.122537</td>\n",
              "      <td>-0.262196</td>\n",
              "      <td>-0.074531</td>\n",
              "      <td>-0.459747</td>\n",
              "      <td>-0.183813</td>\n",
              "      <td>-0.196401</td>\n",
              "      <td>1.000000</td>\n",
              "      <td>-0.015037</td>\n",
              "    </tr>\n",
              "    <tr>\n",
              "      <th>rating</th>\n",
              "      <td>-0.012732</td>\n",
              "      <td>-0.040688</td>\n",
              "      <td>0.027670</td>\n",
              "      <td>0.001502</td>\n",
              "      <td>-0.031433</td>\n",
              "      <td>-0.000689</td>\n",
              "      <td>0.007596</td>\n",
              "      <td>-0.020373</td>\n",
              "      <td>-0.012297</td>\n",
              "      <td>0.017506</td>\n",
              "      <td>0.049563</td>\n",
              "      <td>-0.015037</td>\n",
              "      <td>1.000000</td>\n",
              "    </tr>\n",
              "  </tbody>\n",
              "</table>\n",
              "</div>"
            ],
            "text/plain": [
              "                 title  director      cast  ...  release_year  duration    rating\n",
              "title         1.000000  0.002300  0.074846  ...     -0.073743  0.062053 -0.012732\n",
              "director      0.002300  1.000000 -0.044015  ...      0.021618 -0.224746 -0.040688\n",
              "cast          0.074846 -0.044015  1.000000  ...     -0.008971  0.063190  0.027670\n",
              "country       0.020655 -0.012502 -0.033956  ...     -0.169149 -0.180636  0.001502\n",
              "date_added    0.005145 -0.021517 -0.010441  ...     -0.052177  0.090292 -0.031433\n",
              "rated by      0.018827  0.111823  0.008963  ...      0.253872 -0.122537 -0.000689\n",
              "listed_in    -0.034812  0.096033  0.034817  ...      0.211475 -0.262196  0.007596\n",
              "description   0.060331  0.001448 -0.023193  ...     -0.073769 -0.074531 -0.020373\n",
              "type         -0.007337  0.386032  0.003884  ...      0.072817 -0.459747 -0.012297\n",
              "show_id      -0.092970  0.052112  0.047997  ...      0.643977 -0.183813  0.017506\n",
              "release_year -0.073743  0.021618 -0.008971  ...      1.000000 -0.196401  0.049563\n",
              "duration      0.062053 -0.224746  0.063190  ...     -0.196401  1.000000 -0.015037\n",
              "rating       -0.012732 -0.040688  0.027670  ...      0.049563 -0.015037  1.000000\n",
              "\n",
              "[13 rows x 13 columns]"
            ]
          },
          "metadata": {},
          "execution_count": 10
        }
      ]
    },
    {
      "cell_type": "code",
      "metadata": {
        "colab": {
          "base_uri": "https://localhost:8080/"
        },
        "id": "e8hr1yTh8nb3",
        "outputId": "05d5b891-40d0-4cfd-8be9-1a49156bce44"
      },
      "source": [
        "def correlation(dataset, threshold):\n",
        "    col_corr = set()  # Set of all the names of correlated columns\n",
        "    corr_matrix = dataset.corr()\n",
        "    for i in range(len(corr_matrix.columns)):\n",
        "        for j in range(i):\n",
        "            if abs(corr_matrix.iloc[i, j]) > threshold: # we are interested in absolute coeff value\n",
        "                colname = corr_matrix.columns[i]  # getting the name of column\n",
        "                col_corr.add(colname)\n",
        "    return col_corr\n",
        "\n",
        "corr_features = correlation(fs, 0.4)\n",
        "len(set(corr_features))"
      ],
      "execution_count": null,
      "outputs": [
        {
          "output_type": "execute_result",
          "data": {
            "text/plain": [
              "2"
            ]
          },
          "metadata": {},
          "execution_count": 11
        }
      ]
    },
    {
      "cell_type": "code",
      "metadata": {
        "colab": {
          "base_uri": "https://localhost:8080/"
        },
        "id": "p5Op8bzfAzBg",
        "outputId": "8643fcb9-4712-4c68-b16a-9e1ffb219e2d"
      },
      "source": [
        "corr_features"
      ],
      "execution_count": null,
      "outputs": [
        {
          "output_type": "execute_result",
          "data": {
            "text/plain": [
              "{'duration', 'release_year'}"
            ]
          },
          "metadata": {},
          "execution_count": 12
        }
      ]
    },
    {
      "cell_type": "code",
      "metadata": {
        "colab": {
          "base_uri": "https://localhost:8080/"
        },
        "id": "r2nhzijw_VWA",
        "outputId": "3931cbc4-ce18-4452-a264-7013fd0d4bba"
      },
      "source": [
        "df.drop(corr_features, axis=1, inplace = True)\n",
        "df.shape"
      ],
      "execution_count": null,
      "outputs": [
        {
          "output_type": "execute_result",
          "data": {
            "text/plain": [
              "(985, 11)"
            ]
          },
          "metadata": {},
          "execution_count": 13
        }
      ]
    },
    {
      "cell_type": "markdown",
      "metadata": {
        "id": "7RsAegjGm7wg"
      },
      "source": [
        "#**MODEL SELECTION**"
      ]
    },
    {
      "cell_type": "markdown",
      "metadata": {
        "id": "0MqkxAHWmw-y"
      },
      "source": [
        "**Spliting of train and test data**"
      ]
    },
    {
      "cell_type": "code",
      "metadata": {
        "id": "y6cci4fyc4K1"
      },
      "source": [
        "data2 = pd.read_csv('/content/Netflix_title_final.csv')\n",
        "data2.rename( columns={'Unnamed: 0':'movie_index'}, inplace=True )\n",
        "data3 = data2.copy()"
      ],
      "execution_count": null,
      "outputs": []
    },
    {
      "cell_type": "code",
      "metadata": {
        "id": "u8U5wv1hbSjT"
      },
      "source": [
        "X = data2.iloc[:, [10,11,12,13]].values#show_id,year,duration,rating\n",
        "Y = data2.iloc[:, 9].values# 9 is type"
      ],
      "execution_count": null,
      "outputs": []
    },
    {
      "cell_type": "code",
      "metadata": {
        "id": "EpnN3AedRCHr"
      },
      "source": [
        "from sklearn.model_selection import train_test_split\n",
        "X_Train, X_Test, Y_Train, Y_Test = train_test_split(X, Y, test_size = 0.25, random_state = 0)"
      ],
      "execution_count": null,
      "outputs": []
    },
    {
      "cell_type": "markdown",
      "metadata": {
        "id": "yTEHrcyJaepc"
      },
      "source": [
        "###**K NEAREST NEIGHBOUR**"
      ]
    },
    {
      "cell_type": "code",
      "metadata": {
        "colab": {
          "base_uri": "https://localhost:8080/"
        },
        "id": "wpLwYI-pR460",
        "outputId": "1d51160f-1d33-417b-b918-2f955e8f4392"
      },
      "source": [
        "from sklearn.neighbors import KNeighborsClassifier  \n",
        "classifier= KNeighborsClassifier(n_neighbors=5)  \n",
        "classifier.fit(X_Train, Y_Train)"
      ],
      "execution_count": null,
      "outputs": [
        {
          "output_type": "execute_result",
          "data": {
            "text/plain": [
              "KNeighborsClassifier()"
            ]
          },
          "metadata": {},
          "execution_count": 17
        }
      ]
    },
    {
      "cell_type": "code",
      "metadata": {
        "id": "RwXCMV6UR_10",
        "colab": {
          "base_uri": "https://localhost:8080/"
        },
        "outputId": "7ba5ceaf-acbd-4ba3-c8e6-086aec8add5c"
      },
      "source": [
        "Y_knn_Pred= classifier.predict(X_Test)  \n",
        "print('Accuracy:',accuracy_score(Y_Test, Y_knn_Pred))"
      ],
      "execution_count": null,
      "outputs": [
        {
          "output_type": "stream",
          "name": "stdout",
          "text": [
            "Accuracy: 0.8947368421052632\n"
          ]
        }
      ]
    },
    {
      "cell_type": "code",
      "metadata": {
        "colab": {
          "base_uri": "https://localhost:8080/"
        },
        "id": "oQ9R3JGASFE9",
        "outputId": "a7d7abe9-d724-4bef-8b00-642ba41d293d"
      },
      "source": [
        "from sklearn.metrics import classification_report, confusion_matrix\n",
        "cm_knn = confusion_matrix(Y_Test, Y_knn_Pred)\n",
        "cm_knn"
      ],
      "execution_count": null,
      "outputs": [
        {
          "output_type": "execute_result",
          "data": {
            "text/plain": [
              "array([[215,   5],\n",
              "       [ 21,   6]])"
            ]
          },
          "metadata": {},
          "execution_count": 19
        }
      ]
    },
    {
      "cell_type": "code",
      "metadata": {
        "colab": {
          "base_uri": "https://localhost:8080/"
        },
        "id": "wmEUF8F0SKC-",
        "outputId": "1094f6e1-8c1a-45da-ab36-e6059e8a33ee"
      },
      "source": [
        "print(classification_report(Y_Test, Y_knn_Pred))"
      ],
      "execution_count": null,
      "outputs": [
        {
          "output_type": "stream",
          "name": "stdout",
          "text": [
            "              precision    recall  f1-score   support\n",
            "\n",
            "       Movie       0.91      0.98      0.94       220\n",
            "     TV Show       0.55      0.22      0.32        27\n",
            "\n",
            "    accuracy                           0.89       247\n",
            "   macro avg       0.73      0.60      0.63       247\n",
            "weighted avg       0.87      0.89      0.87       247\n",
            "\n"
          ]
        }
      ]
    },
    {
      "cell_type": "markdown",
      "metadata": {
        "id": "RooclOG7flqj"
      },
      "source": [
        "###**SUPPORT VECTOR MACHINE**"
      ]
    },
    {
      "cell_type": "code",
      "metadata": {
        "colab": {
          "base_uri": "https://localhost:8080/"
        },
        "id": "XxKXqt6afKq6",
        "outputId": "b7287a05-40c5-4a05-d308-03ec48549fbd"
      },
      "source": [
        "from sklearn.svm import SVC\n",
        "classifier = SVC(kernel = 'rbf', random_state = 5)\n",
        "classifier.fit(X_Train, Y_Train)"
      ],
      "execution_count": null,
      "outputs": [
        {
          "output_type": "execute_result",
          "data": {
            "text/plain": [
              "SVC(random_state=5)"
            ]
          },
          "metadata": {},
          "execution_count": 21
        }
      ]
    },
    {
      "cell_type": "code",
      "metadata": {
        "colab": {
          "base_uri": "https://localhost:8080/"
        },
        "id": "y2RvqpNCfS0k",
        "outputId": "7bc19f66-9128-4b74-d8b7-7937af979373"
      },
      "source": [
        "Y_svm_Pred = classifier.predict(X_Test)\n",
        "print('Accuracy:',accuracy_score(Y_Test, Y_svm_Pred))"
      ],
      "execution_count": null,
      "outputs": [
        {
          "output_type": "stream",
          "name": "stdout",
          "text": [
            "Accuracy: 0.8906882591093117\n"
          ]
        }
      ]
    },
    {
      "cell_type": "code",
      "metadata": {
        "colab": {
          "base_uri": "https://localhost:8080/"
        },
        "id": "s_nUj6iafWmg",
        "outputId": "88d4fa18-8b9c-4aca-9353-4fd239000fbc"
      },
      "source": [
        "from sklearn.metrics import classification_report, confusion_matrix\n",
        "cm_svm = confusion_matrix(Y_Test, Y_svm_Pred)\n",
        "cm_svm"
      ],
      "execution_count": null,
      "outputs": [
        {
          "output_type": "execute_result",
          "data": {
            "text/plain": [
              "array([[220,   0],\n",
              "       [ 27,   0]])"
            ]
          },
          "metadata": {},
          "execution_count": 23
        }
      ]
    },
    {
      "cell_type": "code",
      "metadata": {
        "colab": {
          "base_uri": "https://localhost:8080/"
        },
        "id": "dDLtOMpifcAu",
        "outputId": "f1219011-1f79-4a50-ac37-533024d8b3ca"
      },
      "source": [
        "print(classification_report(Y_Test, Y_svm_Pred))"
      ],
      "execution_count": null,
      "outputs": [
        {
          "output_type": "stream",
          "name": "stdout",
          "text": [
            "              precision    recall  f1-score   support\n",
            "\n",
            "       Movie       0.89      1.00      0.94       220\n",
            "     TV Show       0.00      0.00      0.00        27\n",
            "\n",
            "    accuracy                           0.89       247\n",
            "   macro avg       0.45      0.50      0.47       247\n",
            "weighted avg       0.79      0.89      0.84       247\n",
            "\n"
          ]
        },
        {
          "output_type": "stream",
          "name": "stderr",
          "text": [
            "/usr/local/lib/python3.7/dist-packages/sklearn/metrics/_classification.py:1308: UndefinedMetricWarning: Precision and F-score are ill-defined and being set to 0.0 in labels with no predicted samples. Use `zero_division` parameter to control this behavior.\n",
            "  _warn_prf(average, modifier, msg_start, len(result))\n",
            "/usr/local/lib/python3.7/dist-packages/sklearn/metrics/_classification.py:1308: UndefinedMetricWarning: Precision and F-score are ill-defined and being set to 0.0 in labels with no predicted samples. Use `zero_division` parameter to control this behavior.\n",
            "  _warn_prf(average, modifier, msg_start, len(result))\n",
            "/usr/local/lib/python3.7/dist-packages/sklearn/metrics/_classification.py:1308: UndefinedMetricWarning: Precision and F-score are ill-defined and being set to 0.0 in labels with no predicted samples. Use `zero_division` parameter to control this behavior.\n",
            "  _warn_prf(average, modifier, msg_start, len(result))\n"
          ]
        }
      ]
    },
    {
      "cell_type": "markdown",
      "metadata": {
        "id": "IEA-cZZoaaxH"
      },
      "source": [
        "###**K-MEANS CLUSTERING**"
      ]
    },
    {
      "cell_type": "code",
      "metadata": {
        "id": "vH57f0Kmbcj2"
      },
      "source": [
        "# Data Processing\n",
        "# Converting Genres into different columns \n",
        "# Here we just create columns and put there initial value as 0\n",
        "x = data3.listed_in\n",
        "a = list()\n",
        "for i in x:\n",
        "    abc = i\n",
        "    a.append(abc.split(','))\n",
        "a = pd.DataFrame(a)   \n",
        "b = a[0].unique()\n",
        "for i in b:\n",
        "    data3[i] = 0\n",
        "\n",
        "# we assign 1 to all the columns which are present in the Genres\n",
        "for i in b:\n",
        "    data3.loc[data3['listed_in'].str.contains(i), i] = 1\n"
      ],
      "execution_count": null,
      "outputs": []
    },
    {
      "cell_type": "code",
      "metadata": {
        "id": "hOfv74SsbwMP"
      },
      "source": [
        "x = data3.cast\n",
        "a = list()\n",
        "for i in x:\n",
        "    abc = i\n",
        "    a.append(abc.split(','))\n",
        "a = pd.DataFrame(a)   \n",
        "b = a[0].unique()\n",
        "for i in b:\n",
        "    data3[i] = 0\n",
        "for i in b:\n",
        "    data3.loc[data3['cast'].str.contains(i), i] = 1"
      ],
      "execution_count": null,
      "outputs": []
    },
    {
      "cell_type": "code",
      "metadata": {
        "id": "8oLIVl-tbuKZ"
      },
      "source": [
        "label_encoder = preprocessing.LabelEncoder()\n",
        "for column in data3:\n",
        "  data3[column]= label_encoder.fit_transform(data3[column])\n",
        "\n",
        "data3.drop(['listed_in','cast','show_id','movie_index','title','description'],axis=1,inplace=True)\n"
      ],
      "execution_count": null,
      "outputs": []
    },
    {
      "cell_type": "code",
      "metadata": {
        "colab": {
          "base_uri": "https://localhost:8080/"
        },
        "id": "6sWov_nlcOAi",
        "outputId": "10e23b11-bd52-40a0-a0c1-bd3b8b3c90f4"
      },
      "source": [
        "sse = []\n",
        "k_rng = range(1,10)\n",
        "for k in k_rng:\n",
        "    km = KMeans(n_clusters=k)\n",
        "    km.fit(data3)\n",
        "    sse.append(km.inertia_)\n",
        "\n",
        "plt.xlabel('K')\n",
        "plt.ylabel('Sum of squared error')\n",
        "plt.plot(k_rng,sse)"
      ],
      "execution_count": null,
      "outputs": [
        {
          "output_type": "execute_result",
          "data": {
            "text/plain": [
              "[<matplotlib.lines.Line2D at 0x7f2d1519dd50>]"
            ]
          },
          "metadata": {},
          "execution_count": 28
        },
        {
          "output_type": "display_data",
          "data": {
            "image/png": "[encoded data removed]",
            "text/plain": [
              "<Figure size 432x288 with 1 Axes>"
            ]
          },
          "metadata": {
            "needs_background": "light"
          }
        }
      ]
    },
    {
      "cell_type": "code",
      "metadata": {
        "colab": {
          "base_uri": "https://localhost:8080/"
        },
        "id": "3Gpxw5BJd-B4",
        "outputId": "54a54f0c-4c01-4da3-b7a7-811d16255563"
      },
      "source": [
        "k_means = KMeans(n_clusters=3)\n",
        "k_means.fit(X_Train)\n",
        "print(k_means.labels_[:])\n",
        "\n",
        "#score = metrics.accuracy_score(Y_Test,k_means.predict(X_Test))\n",
        "#print('Accuracy:{0:f}'.format(score))\n",
        "\n",
        "print(k_means.predict(X_Test))\n",
        "print(X_Test[:])\n",
        "\n",
        "'''In terms of evaluating accuracy. k-means is not a classification tool, \n",
        "thus analyzing accuracy is not a very good idea. We can do this, but this is not what k-means is for.\n",
        "It is supposed to find a grouping of data which maximizes between-clusters distances,\n",
        "it does not use your labeling to train.For maximization of accuracy you should fit actual\n",
        "classifier, like kNN, logistic regression, SVM, etc.\n",
        "We are not using it here since we have to classify where all the movie present should\n",
        "either be close to or not close to the input movie'''"
      ],
      "execution_count": null,
      "outputs": [
        {
          "output_type": "stream",
          "name": "stdout",
          "text": [
            "[1 2 0 0 0 0 2 0 0 0 2 2 1 2 0 2 2 0 0 2 2 0 0 0 0 0 2 1 2 0 2 0 2 2 0 0 0\n",
            " 0 2 0 2 0 2 2 0 0 0 2 0 2 0 2 0 2 0 2 0 2 0 1 0 0 0 0 2 0 0 2 2 2 2 1 2 0\n",
            " 0 0 0 0 1 0 2 1 0 0 0 0 0 0 0 0 0 0 0 0 2 0 1 2 1 0 0 2 0 0 2 0 2 0 1 0 0\n",
            " 0 0 0 2 2 0 0 0 0 2 0 1 0 0 0 0 0 0 2 0 0 0 2 0 0 2 0 0 0 0 0 0 0 0 0 2 0\n",
            " 1 2 0 2 0 2 1 0 0 0 0 1 2 0 0 0 0 2 0 0 2 1 2 0 0 0 0 0 0 1 0 0 0 2 0 0 0\n",
            " 2 0 2 0 0 0 2 0 0 0 0 0 0 0 0 2 2 0 0 0 0 2 0 0 2 0 0 0 0 2 1 2 2 2 0 0 0\n",
            " 0 2 0 0 2 2 2 0 2 0 0 0 0 2 0 0 0 2 0 0 0 2 2 0 0 0 0 0 2 2 0 2 0 2 0 2 0\n",
            " 0 0 0 0 2 0 0 0 0 2 0 0 2 0 0 0 2 0 0 1 0 0 0 0 2 2 0 2 0 0 0 0 0 1 0 0 0\n",
            " 0 0 1 2 0 2 1 2 0 0 0 2 0 2 2 0 2 0 2 0 2 0 0 1 0 0 0 0 2 0 0 0 2 0 1 2 0\n",
            " 0 2 2 0 2 0 2 0 0 0 0 2 0 0 0 2 0 2 2 2 0 0 0 2 0 2 0 0 0 2 0 0 2 2 0 0 0\n",
            " 2 0 0 2 2 0 0 0 0 1 0 2 2 0 2 2 2 0 0 2 1 0 0 0 2 0 0 0 2 0 2 0 2 2 0 2 0\n",
            " 2 0 0 2 0 0 0 0 0 2 0 0 0 0 2 2 0 0 0 0 0 0 0 0 0 2 0 2 2 2 1 0 0 2 0 0 0\n",
            " 2 0 2 1 1 2 0 0 0 0 1 0 2 0 2 2 2 0 0 0 2 1 0 2 2 2 0 0 0 0 0 0 0 0 0 0 1\n",
            " 0 2 0 0 0 0 0 0 2 0 0 0 2 0 0 0 0 0 0 0 0 0 0 2 0 0 1 2 0 0 0 2 0 2 0 0 0\n",
            " 2 0 0 2 0 0 2 0 0 0 0 0 0 0 0 0 0 0 0 0 1 1 0 0 0 1 0 1 2 2 0 0 0 0 0 0 0\n",
            " 0 0 2 2 0 2 0 2 2 2 2 0 0 2 1 2 0 0 2 0 0 0 0 0 0 0 2 2 2 2 2 0 1 2 2 2 2\n",
            " 0 2 0 2 2 0 2 2 0 0 0 2 0 0 2 0 0 0 2 0 2 0 0 0 0 0 2 2 0 2 0 0 1 0 0 0 0\n",
            " 2 0 2 0 0 2 0 1 2 2 0 0 2 0 0 0 2 0 0 0 0 0 2 0 2 0 2 2 2 0 2 2 0 0 0 0 0\n",
            " 0 2 0 0 2 0 1 2 2 0 0 0 0 2 0 0 2 0 0 2 1 2 0 2 2 0 0 1 0 0 0 2 0 2 2 0 2\n",
            " 0 2 2 0 2 0 0 2 0 0 0 0 0 0 0 0 0 0 0 0 0 0 0 2 2 2 0 2 0 2 0 0 0 0 0]\n",
            "[0 0 0 2 0 0 0 0 0 0 2 0 0 2 2 0 0 0 0 0 0 0 2 0 0 0 0 2 2 2 0 0 0 0 0 0 2\n",
            " 2 0 0 0 0 0 0 0 0 2 0 0 0 2 2 0 0 2 0 2 2 0 2 0 2 0 0 2 0 2 2 0 0 0 2 0 2\n",
            " 0 2 0 2 2 0 0 0 0 2 0 0 0 0 2 0 0 0 0 0 2 0 0 2 0 0 0 2 0 0 2 0 2 0 0 2 0\n",
            " 0 2 2 0 0 0 0 0 2 0 0 0 2 0 0 2 2 0 0 0 2 0 2 2 2 2 0 1 0 2 0 0 2 0 2 0 0\n",
            " 0 0 0 0 0 0 2 0 2 2 0 2 0 2 0 0 2 0 0 2 0 0 0 2 0 0 0 0 0 0 0 0 0 2 0 0 0\n",
            " 0 2 0 0 2 2 0 2 0 2 2 2 2 1 1 2 2 0 0 0 0 0 0 0 0 0 0 0 0 2 2 0 2 2 0 0 0\n",
            " 0 0 0 0 0 0 0 0 0 0 2 0 2 0 2 0 0 2 0 0 0 0 2 0 2]\n",
            "[[8.0176872e+07 2.0190000e+03 6.0000000e+01 7.0000000e+00]\n",
            " [8.1065902e+07 2.0180000e+03 1.0300000e+02 7.0000000e+00]\n",
            " [8.0198859e+07 2.0190000e+03 9.7000000e+01 8.2000000e+00]\n",
            " [7.0265211e+07 2.0120000e+03 5.3000000e+01 7.7000000e+00]\n",
            " [8.0994596e+07 2.0190000e+03 6.0000000e+01 9.1000000e+00]\n",
            " [8.0015210e+07 2.0150000e+03 6.9000000e+01 8.1000000e+00]\n",
            " [8.1173255e+07 2.0170000e+03 8.8000000e+01 6.6000000e+00]\n",
            " [8.0080768e+07 2.0150000e+03 9.5000000e+01 9.4000000e+00]\n",
            " [8.0080617e+07 2.0160000e+03 6.7000000e+01 8.1000000e+00]\n",
            " [8.1004321e+07 2.0190000e+03 6.9000000e+01 6.8000000e+00]\n",
            " [7.0058025e+07 2.0070000e+03 8.6000000e+01 8.9000000e+00]\n",
            " [8.0221109e+07 2.0190000e+03 1.0500000e+02 7.0000000e+00]\n",
            " [8.0045629e+07 2.0090000e+03 6.0000000e+01 9.1000000e+00]\n",
            " [7.0206818e+07 1.9900000e+03 9.4000000e+01 6.6000000e+00]\n",
            " [7.0213078e+07 2.0070000e+03 6.0000000e+01 8.5000000e+00]\n",
            " [8.1194544e+07 2.0190000e+03 1.3400000e+02 6.8000000e+00]\n",
            " [8.0082862e+07 2.0160000e+03 6.6000000e+01 9.1000000e+00]\n",
            " [8.1035840e+07 2.0170000e+03 9.3000000e+01 6.7000000e+00]\n",
            " [8.0044731e+07 2.0150000e+03 9.2000000e+01 7.7000000e+00]\n",
            " [8.0003481e+07 2.0140000e+03 7.1000000e+01 8.1000000e+00]\n",
            " [8.1214223e+07 2.0140000e+03 6.8000000e+01 6.9000000e+00]\n",
            " [8.0005738e+07 2.0120000e+03 2.6000000e+01 8.3000000e+00]\n",
            " [6.0022502e+07 1.9950000e+03 1.0100000e+02 7.5000000e+00]\n",
            " [8.1068732e+07 2.0190000e+03 1.0900000e+02 6.5000000e+00]\n",
            " [8.1218074e+07 2.0190000e+03 1.1900000e+02 8.9000000e+00]\n",
            " [8.0221943e+07 2.0140000e+03 6.0000000e+01 6.5000000e+00]\n",
            " [8.1003460e+07 2.0170000e+03 8.6000000e+01 6.3000000e+00]\n",
            " [7.0166234e+07 2.0110000e+03 7.6000000e+01 9.9000000e+00]\n",
            " [7.0221673e+07 2.0110000e+03 6.0000000e+01 6.6000000e+00]\n",
            " [7.0084148e+07 2.0080000e+03 9.7000000e+01 7.7000000e+00]\n",
            " [8.1160036e+07 2.0160000e+03 1.2800000e+02 7.4000000e+00]\n",
            " [8.1145273e+07 2.0180000e+03 8.4000000e+01 9.9000000e+00]\n",
            " [8.0083752e+07 2.0140000e+03 1.1300000e+02 8.6000000e+00]\n",
            " [8.0081754e+07 2.0150000e+03 6.0000000e+01 7.3000000e+00]\n",
            " [8.1172905e+07 2.0180000e+03 9.9000000e+01 6.8000000e+00]\n",
            " [8.0183187e+07 2.0190000e+03 9.8000000e+01 8.6000000e+00]\n",
            " [7.0105132e+07 2.0090000e+03 8.9000000e+01 6.8000000e+00]\n",
            " [6.0034571e+07 2.0040000e+03 1.6300000e+02 8.6000000e+00]\n",
            " [8.1168348e+07 1.9730000e+03 9.7000000e+01 6.8000000e+00]\n",
            " [8.0027772e+07 2.0150000e+03 6.0000000e+01 8.1000000e+00]\n",
            " [8.0011848e+07 2.0150000e+03 8.2000000e+01 8.4000000e+00]\n",
            " [8.1028570e+07 2.0190000e+03 1.1000000e+02 9.0000000e+00]\n",
            " [8.1035841e+07 2.0160000e+03 1.0200000e+02 9.7000000e+00]\n",
            " [8.1215438e+07 2.0170000e+03 8.1000000e+01 8.7000000e+00]\n",
            " [8.0085567e+07 2.0150000e+03 7.0000000e+01 7.7000000e+00]\n",
            " [8.1121183e+07 2.0170000e+03 5.2000000e+01 8.1000000e+00]\n",
            " [6.0023597e+07 2.0020000e+03 8.8000000e+01 8.8000000e+00]\n",
            " [8.0081372e+07 2.0150000e+03 9.8000000e+01 9.8000000e+00]\n",
            " [8.1172568e+07 2.0180000e+03 6.0000000e+01 6.0000000e+00]\n",
            " [8.1092192e+07 2.0190000e+03 6.0000000e+01 7.5000000e+00]\n",
            " [7.0259259e+07 2.0120000e+03 9.4000000e+01 6.9000000e+00]\n",
            " [7.0058023e+07 2.0070000e+03 1.1300000e+02 9.4000000e+00]\n",
            " [8.0076698e+07 2.0150000e+03 1.0500000e+02 8.4000000e+00]\n",
            " [8.0158802e+07 2.0180000e+03 5.6000000e+01 9.8000000e+00]\n",
            " [7.0297962e+07 2.0130000e+03 4.5000000e+01 8.0000000e+00]\n",
            " [8.1174992e+07 2.0180000e+03 6.0000000e+01 9.5000000e+00]\n",
            " [7.0044688e+07 2.0060000e+03 1.1000000e+02 6.2000000e+00]\n",
            " [7.0235731e+07 2.0010000e+03 6.0000000e+01 8.8000000e+00]\n",
            " [8.1016338e+07 2.0180000e+03 1.0100000e+02 8.0000000e+00]\n",
            " [7.0113005e+07 2.0090000e+03 1.1200000e+02 6.0000000e+00]\n",
            " [8.1094801e+07 2.0190000e+03 9.8000000e+01 6.6000000e+00]\n",
            " [7.0103759e+07 2.0090000e+03 9.6000000e+01 6.6000000e+00]\n",
            " [8.1157840e+07 2.0180000e+03 8.6000000e+01 9.1000000e+00]\n",
            " [8.1035870e+07 2.0120000e+03 9.9000000e+01 6.2000000e+00]\n",
            " [7.0001958e+07 1.9730000e+03 1.1200000e+02 7.5000000e+00]\n",
            " [8.1035843e+07 2.0160000e+03 1.1600000e+02 7.8000000e+00]\n",
            " [7.0043308e+07 2.0060000e+03 8.6000000e+01 9.6000000e+00]\n",
            " [6.0031278e+07 2.0030000e+03 1.2800000e+02 9.4000000e+00]\n",
            " [8.1112772e+07 2.0170000e+03 6.0000000e+01 7.0000000e+00]\n",
            " [8.1039410e+07 2.0180000e+03 1.0000000e+02 8.9000000e+00]\n",
            " [8.0094357e+07 2.0150000e+03 1.1600000e+02 9.0000000e+00]\n",
            " [6.0020745e+07 2.0010000e+03 9.9000000e+01 9.3000000e+00]\n",
            " [8.0231419e+07 2.0190000e+03 1.0000000e+02 8.7000000e+00]\n",
            " [7.0137753e+07 2.0100000e+03 1.0800000e+02 8.8000000e+00]\n",
            " [8.0098475e+07 2.0160000e+03 1.2700000e+02 8.4000000e+00]\n",
            " [7.0099119e+07 2.0080000e+03 8.7000000e+01 6.5000000e+00]\n",
            " [8.0058460e+07 2.0150000e+03 9.7000000e+01 7.7000000e+00]\n",
            " [6.0027716e+07 2.0030000e+03 8.5000000e+01 9.7000000e+00]\n",
            " [7.0053412e+07 2.0060000e+03 8.1000000e+01 9.4000000e+00]\n",
            " [8.1092776e+07 2.0180000e+03 6.2000000e+01 9.0000000e+00]\n",
            " [8.1036530e+07 2.0160000e+03 9.2000000e+01 6.6000000e+00]\n",
            " [8.1002929e+07 2.0190000e+03 6.0000000e+01 8.6000000e+00]\n",
            " [8.1002412e+07 2.0190000e+03 1.0300000e+02 6.2000000e+00]\n",
            " [7.0295085e+07 2.0130000e+03 7.2000000e+01 6.1000000e+00]\n",
            " [8.1029736e+07 2.0190000e+03 7.1000000e+01 7.2000000e+00]\n",
            " [8.0097424e+07 2.0160000e+03 1.2000000e+02 7.1000000e+00]\n",
            " [8.1132624e+07 2.0190000e+03 9.3000000e+01 7.4000000e+00]\n",
            " [8.1035862e+07 2.0120000e+03 9.7000000e+01 8.2000000e+00]\n",
            " [7.0206825e+07 1.9900000e+03 9.5000000e+01 6.3000000e+00]\n",
            " [8.1110386e+07 2.0190000e+03 1.1400000e+02 7.6000000e+00]\n",
            " [8.1044248e+07 2.0190000e+03 9.0000000e+01 8.2000000e+00]\n",
            " [8.1035852e+07 2.0140000e+03 9.8000000e+01 6.7000000e+00]\n",
            " [8.1092768e+07 2.0140000e+03 1.2500000e+02 9.0000000e+00]\n",
            " [8.0039136e+07 1.9740000e+03 1.0300000e+02 9.6000000e+00]\n",
            " [6.0000577e+07 1.9780000e+03 1.1000000e+02 8.1000000e+00]\n",
            " [8.1121184e+07 2.0170000e+03 5.4000000e+01 8.1000000e+00]\n",
            " [8.1023636e+07 2.0180000e+03 8.8000000e+01 7.2000000e+00]\n",
            " [7.0206823e+07 1.9880000e+03 9.4000000e+01 8.6000000e+00]\n",
            " [8.0991316e+07 2.0190000e+03 8.8000000e+01 8.4000000e+00]\n",
            " [8.1034931e+07 2.0180000e+03 1.2200000e+02 8.8000000e+00]\n",
            " [8.1145277e+07 2.0190000e+03 9.1000000e+01 7.6000000e+00]\n",
            " [7.0173046e+07 2.0110000e+03 9.4000000e+01 7.5000000e+00]\n",
            " [8.0058979e+07 2.0150000e+03 6.0000000e+01 8.9000000e+00]\n",
            " [8.1131274e+07 2.0190000e+03 1.1600000e+02 9.4000000e+00]\n",
            " [7.0206824e+07 1.9910000e+03 9.3000000e+01 8.1000000e+00]\n",
            " [8.0064273e+07 2.0150000e+03 9.5000000e+01 8.8000000e+00]\n",
            " [7.0042688e+07 2.0060000e+03 1.0700000e+02 7.6000000e+00]\n",
            " [8.1184735e+07 2.0190000e+03 6.0000000e+01 7.6000000e+00]\n",
            " [8.1121177e+07 2.0180000e+03 1.1300000e+02 7.2000000e+00]\n",
            " [7.0123542e+07 2.0090000e+03 8.8000000e+01 8.8000000e+00]\n",
            " [8.1062606e+07 2.0170000e+03 1.2800000e+02 6.7000000e+00]\n",
            " [8.1158574e+07 2.0190000e+03 1.1000000e+02 7.9000000e+00]\n",
            " [6.0031247e+07 2.0030000e+03 9.8000000e+01 8.5000000e+00]\n",
            " [7.0093991e+07 2.0080000e+03 9.8000000e+01 7.5000000e+00]\n",
            " [8.1035877e+07 2.0100000e+03 1.1200000e+02 7.7000000e+00]\n",
            " [8.0992769e+07 2.0160000e+03 9.3000000e+01 8.5000000e+00]\n",
            " [8.1185502e+07 2.0190000e+03 6.0000000e+01 8.5000000e+00]\n",
            " [8.0221640e+07 2.0180000e+03 1.1300000e+02 8.1000000e+00]\n",
            " [8.0235472e+07 2.0170000e+03 8.8000000e+01 9.7000000e+00]\n",
            " [7.0292992e+07 2.0130000e+03 1.0600000e+02 9.9000000e+00]\n",
            " [8.1172899e+07 2.0180000e+03 1.1000000e+02 9.8000000e+00]\n",
            " [8.0050006e+07 2.0150000e+03 6.7000000e+01 8.8000000e+00]\n",
            " [8.1035855e+07 2.0130000e+03 1.1100000e+02 9.1000000e+00]\n",
            " [7.0117294e+07 2.0100000e+03 1.0700000e+02 9.3000000e+00]\n",
            " [8.1168347e+07 1.9750000e+03 9.6000000e+01 9.4000000e+00]\n",
            " [8.1035879e+07 2.0100000e+03 9.6000000e+01 8.1000000e+00]\n",
            " [6.0029369e+07 1.9880000e+03 1.3400000e+02 6.6000000e+00]\n",
            " [7.0118801e+07 2.0080000e+03 1.1100000e+02 9.3000000e+00]\n",
            " [8.1049260e+07 2.0180000e+03 1.0400000e+02 8.3000000e+00]\n",
            " [8.1066244e+07 2.0180000e+03 9.8000000e+01 7.5000000e+00]\n",
            " [8.0025390e+07 2.0140000e+03 1.1100000e+02 9.0000000e+00]\n",
            " [7.0293788e+07 2.0130000e+03 1.1300000e+02 9.5000000e+00]\n",
            " [8.1003736e+07 2.0180000e+03 9.2000000e+01 6.5000000e+00]\n",
            " [6.0003508e+07 2.0000000e+03 1.1200000e+02 7.7000000e+00]\n",
            " [7.0003046e+07 1.9920000e+03 7.3000000e+01 8.6000000e+00]\n",
            " [6.0001761e+07 1.9840000e+03 1.2500000e+02 7.6000000e+00]\n",
            " [7.0091304e+07 2.0080000e+03 5.6000000e+01 6.5000000e+00]\n",
            " [8.1112446e+07 2.0190000e+03 1.1700000e+02 6.1000000e+00]\n",
            " [2.0129240e+07 1.9980000e+03 1.1000000e+02 6.6000000e+00]\n",
            " [8.1002876e+07 2.0190000e+03 6.4000000e+01 6.7000000e+00]\n",
            " [7.0098605e+07 2.0080000e+03 1.0100000e+02 8.3000000e+00]\n",
            " [8.1080637e+07 2.0190000e+03 8.8000000e+01 9.2000000e+00]\n",
            " [8.1035857e+07 2.0130000e+03 9.6000000e+01 8.4000000e+00]\n",
            " [7.0242898e+07 2.0120000e+03 2.4000000e+01 7.2000000e+00]\n",
            " [8.0117542e+07 2.0190000e+03 1.1400000e+02 8.0000000e+00]\n",
            " [7.0306646e+07 2.0140000e+03 7.8000000e+01 9.5000000e+00]\n",
            " [8.0102305e+07 2.0150000e+03 9.8000000e+01 6.7000000e+00]\n",
            " [8.1069255e+07 2.0180000e+03 9.0000000e+01 6.8000000e+00]\n",
            " [8.0065220e+07 2.0150000e+03 7.2000000e+01 9.0000000e+00]\n",
            " [8.1168345e+07 1.9900000e+03 8.8000000e+01 6.4000000e+00]\n",
            " [8.0018296e+07 2.0140000e+03 9.0000000e+01 8.1000000e+00]\n",
            " [8.0049171e+07 2.0110000e+03 5.2000000e+01 9.7000000e+00]\n",
            " [8.1038022e+07 2.0190000e+03 6.0000000e+01 6.4000000e+00]\n",
            " [8.1035835e+07 2.0170000e+03 9.9000000e+01 9.9000000e+00]\n",
            " [7.0213077e+07 2.0090000e+03 6.0000000e+01 8.1000000e+00]\n",
            " [8.1083786e+07 2.0180000e+03 9.2000000e+01 7.9000000e+00]\n",
            " [7.0119812e+07 2.0100000e+03 1.0600000e+02 9.2000000e+00]\n",
            " [7.0212980e+07 1.9890000e+03 6.0000000e+01 6.3000000e+00]\n",
            " [8.1155782e+07 2.0180000e+03 1.6100000e+02 7.4000000e+00]\n",
            " [6.0003082e+07 1.9540000e+03 1.2000000e+02 6.2000000e+00]\n",
            " [8.1039323e+07 2.0170000e+03 1.1900000e+02 8.8000000e+00]\n",
            " [7.0124316e+07 1.9820000e+03 1.0400000e+02 7.0000000e+00]\n",
            " [8.0231468e+07 2.0190000e+03 8.6000000e+01 8.7000000e+00]\n",
            " [8.0218448e+07 2.0190000e+03 6.0000000e+01 9.9000000e+00]\n",
            " [7.0044697e+07 2.0060000e+03 9.8000000e+01 7.3000000e+00]\n",
            " [8.0017275e+07 2.0140000e+03 1.3000000e+02 9.1000000e+00]\n",
            " [8.0038296e+07 2.0150000e+03 5.8000000e+01 9.4000000e+00]\n",
            " [7.0206816e+07 1.9860000e+03 9.6000000e+01 6.3000000e+00]\n",
            " [8.1035856e+07 2.0130000e+03 1.1200000e+02 9.5000000e+00]\n",
            " [8.1035882e+07 2.0180000e+03 8.9000000e+01 6.6000000e+00]\n",
            " [8.0237905e+07 2.0190000e+03 1.0200000e+02 9.2000000e+00]\n",
            " [7.0221672e+07 1.9970000e+03 6.0000000e+01 8.5000000e+00]\n",
            " [8.0101096e+07 2.0160000e+03 2.3000000e+01 6.7000000e+00]\n",
            " [8.1165772e+07 2.0090000e+03 1.2100000e+02 7.9000000e+00]\n",
            " [8.0096782e+07 2.0160000e+03 1.6300000e+02 9.1000000e+00]\n",
            " [8.1172754e+07 2.0180000e+03 1.0700000e+02 9.2000000e+00]\n",
            " [8.0081410e+07 2.0150000e+03 7.4000000e+01 9.7000000e+00]\n",
            " [8.1035887e+07 2.0170000e+03 1.1700000e+02 9.9000000e+00]\n",
            " [8.0203143e+07 2.0190000e+03 9.7000000e+01 7.3000000e+00]\n",
            " [8.1088277e+07 2.0190000e+03 1.1700000e+02 9.3000000e+00]\n",
            " [8.1060038e+07 2.0180000e+03 9.4000000e+01 7.4000000e+00]\n",
            " [7.0020947e+07 2.0050000e+03 9.8000000e+01 7.0000000e+00]\n",
            " [8.0045783e+07 2.0150000e+03 8.5000000e+01 8.2000000e+00]\n",
            " [8.1151877e+07 2.0190000e+03 9.8000000e+01 6.6000000e+00]\n",
            " [8.1091957e+07 2.0190000e+03 7.2000000e+01 7.2000000e+00]\n",
            " [8.1183572e+07 2.0190000e+03 8.7000000e+01 8.9000000e+00]\n",
            " [7.0020699e+07 1.9800000e+03 1.2900000e+02 7.0000000e+00]\n",
            " [8.0044804e+07 2.0150000e+03 6.2000000e+01 8.0200000e+00]\n",
            " [8.0017261e+07 2.0140000e+03 9.5000000e+01 8.6000000e+00]\n",
            " [7.0153178e+07 2.0100000e+03 1.3300000e+02 6.1000000e+00]\n",
            " [7.0034607e+07 2.0050000e+03 1.4900000e+02 7.2000000e+00]\n",
            " [8.1065331e+07 2.0190000e+03 9.2000000e+01 8.3000000e+00]\n",
            " [7.0292700e+07 2.0100000e+03 8.6000000e+01 8.5000000e+00]\n",
            " [8.1035865e+07 2.0120000e+03 8.7000000e+01 7.4000000e+00]\n",
            " [7.0122722e+07 2.0090000e+03 8.5000000e+01 7.9000000e+00]\n",
            " [7.0021654e+07 2.0060000e+03 9.3000000e+01 8.6000000e+00]\n",
            " [7.0073018e+07 2.0070000e+03 1.1600000e+02 7.2000000e+00]\n",
            " [7.0261178e+07 2.0120000e+03 9.6000000e+01 7.1000000e+00]\n",
            " [1.1795830e+06 1.9970000e+03 9.6000000e+01 7.0000000e+00]\n",
            " [7.0916300e+05 1.9760000e+03 1.1800000e+02 8.7000000e+00]\n",
            " [6.0004471e+07 2.0010000e+03 1.0200000e+02 9.8000000e+00]\n",
            " [7.0213074e+07 1.9970000e+03 6.0000000e+01 7.0000000e+00]\n",
            " [8.0099089e+07 2.0160000e+03 1.0700000e+02 8.2000000e+00]\n",
            " [8.0998890e+07 2.0190000e+03 1.1200000e+02 9.8000000e+00]\n",
            " [8.1021976e+07 2.0190000e+03 4.6000000e+01 8.6000000e+00]\n",
            " [8.1053892e+07 2.0190000e+03 9.0000000e+01 9.7000000e+00]\n",
            " [8.1029429e+07 2.0170000e+03 6.0000000e+01 9.0000000e+00]\n",
            " [8.1017094e+07 2.0180000e+03 1.1000000e+02 7.4000000e+00]\n",
            " [8.1215481e+07 2.0190000e+03 1.1700000e+02 7.1000000e+00]\n",
            " [8.1155858e+07 2.0180000e+03 1.3500000e+02 8.8000000e+00]\n",
            " [8.0066806e+07 2.0150000e+03 7.8000000e+01 9.8000000e+00]\n",
            " [8.0994162e+07 2.0170000e+03 8.1000000e+01 8.2000000e+00]\n",
            " [8.1065786e+07 2.0180000e+03 9.5000000e+01 9.9000000e+00]\n",
            " [8.1183570e+07 2.0190000e+03 8.7000000e+01 8.9000000e+00]\n",
            " [7.0044686e+07 2.0070000e+03 1.5800000e+02 9.4000000e+00]\n",
            " [7.0124331e+07 2.0100000e+03 1.0000000e+02 6.8000000e+00]\n",
            " [8.1113927e+07 2.0180000e+03 9.0000000e+01 6.3000000e+00]\n",
            " [7.0060005e+07 2.0080000e+03 9.0000000e+01 9.5000000e+00]\n",
            " [6.0033312e+07 2.0050000e+03 1.3300000e+02 9.3000000e+00]\n",
            " [8.0059432e+07 2.0150000e+03 8.3000000e+01 7.1000000e+00]\n",
            " [8.1113921e+07 2.0180000e+03 1.2700000e+02 9.6000000e+00]\n",
            " [8.1177371e+07 2.0190000e+03 1.2600000e+02 9.1000000e+00]\n",
            " [8.0149143e+07 2.0160000e+03 1.1200000e+02 7.3000000e+00]\n",
            " [8.1035873e+07 2.0110000e+03 9.7000000e+01 9.2000000e+00]\n",
            " [8.1035858e+07 2.0130000e+03 1.0700000e+02 6.2000000e+00]\n",
            " [8.0033772e+07 2.0140000e+03 9.0000000e+01 6.8000000e+00]\n",
            " [8.1213894e+07 2.0190000e+03 1.3500000e+02 7.2000000e+00]\n",
            " [8.1154956e+07 2.0180000e+03 6.0000000e+01 9.6000000e+00]\n",
            " [8.0244973e+07 2.0190000e+03 6.5000000e+01 6.4000000e+00]\n",
            " [8.1011936e+07 2.0180000e+03 1.3300000e+02 8.2000000e+00]\n",
            " [8.0081337e+07 2.0120000e+03 4.3000000e+01 9.7000000e+00]\n",
            " [8.1078466e+07 2.0190000e+03 5.9000000e+01 6.4000000e+00]\n",
            " [7.0266677e+07 2.0130000e+03 1.2000000e+02 7.2000000e+00]\n",
            " [8.0217594e+07 2.0190000e+03 6.0000000e+01 9.7000000e+00]\n",
            " [7.0213083e+07 2.0080000e+03 6.0000000e+01 6.0000000e+00]\n",
            " [8.0244640e+07 2.0180000e+03 1.2800000e+02 8.6000000e+00]\n",
            " [7.0113003e+07 2.0090000e+03 1.0900000e+02 8.0000000e+00]\n",
            " [8.1090071e+07 2.0190000e+03 1.1000000e+02 9.0000000e+00]\n",
            " [8.1165771e+07 2.0120000e+03 1.1200000e+02 9.6000000e+00]\n",
            " [7.0268449e+07 2.0130000e+03 1.0500000e+02 7.2000000e+00]\n",
            " [8.1197050e+07 2.0190000e+03 6.7000000e+01 7.2000000e+00]\n",
            " [8.0121387e+07 2.0190000e+03 1.1900000e+02 7.0000000e+00]\n",
            " [8.1108280e+07 2.0190000e+03 6.0000000e+01 6.9000000e+00]\n",
            " [8.0198632e+07 2.0190000e+03 1.0700000e+02 9.0000000e+00]\n",
            " [7.0172928e+07 2.0110000e+03 1.4700000e+02 9.7000000e+00]\n",
            " [8.1145271e+07 2.0190000e+03 7.9000000e+01 9.3000000e+00]\n",
            " [7.0259177e+07 2.0160000e+03 6.0000000e+01 7.6000000e+00]]\n"
          ]
        },
        {
          "output_type": "execute_result",
          "data": {
            "application/vnd.google.colaboratory.intrinsic+json": {
              "type": "string"
            },
            "text/plain": [
              "'In terms of evaluating accuracy. k-means is not a classification tool, \\nthus analyzing accuracy is not a very good idea. We can do this, but this is not what k-means is for.\\nIt is supposed to find a grouping of data which maximizes between-clusters distances,\\nit does not use your labeling to train.For maximization of accuracy you should fit actual\\nclassifier, like kNN, logistic regression, SVM, etc.\\nWe are not using it here since we have to classify where all the movie present should\\neither be close to or not close to the input movie'"
            ]
          },
          "metadata": {},
          "execution_count": 29
        }
      ]
    },
    {
      "cell_type": "markdown",
      "metadata": {
        "id": "zigzPcfnAbZ1"
      },
      "source": [
        "###**RANDOM FOREST**"
      ]
    },
    {
      "cell_type": "code",
      "metadata": {
        "id": "bAEiDZ7ZUEjW"
      },
      "source": [
        "from sklearn.ensemble import RandomForestRegressor\n",
        "regressor = RandomForestRegressor(n_estimators = 100, random_state = 0)"
      ],
      "execution_count": null,
      "outputs": []
    },
    {
      "cell_type": "code",
      "metadata": {
        "colab": {
          "base_uri": "https://localhost:8080/"
        },
        "id": "ebVrWGEUUuJT",
        "outputId": "7eedf271-5311-4a09-bec2-e2a50a6a9a1b"
      },
      "source": [
        "df = pd.read_csv('https://raw.githubusercontent.com/Sneha8501/ML/main/Netflix_title_final.csv')\n",
        "df.head()"
      ],
      "execution_count": null,
      "outputs": [
        {
          "output_type": "execute_result",
          "data": {
            "text/html": [
              "<div>\n",
              "<style scoped>\n",
              "    .dataframe tbody tr th:only-of-type {\n",
              "        vertical-align: middle;\n",
              "    }\n",
              "\n",
              "    .dataframe tbody tr th {\n",
              "        vertical-align: top;\n",
              "    }\n",
              "\n",
              "    .dataframe thead th {\n",
              "        text-align: right;\n",
              "    }\n",
              "</style>\n",
              "<table border=\"1\" class=\"dataframe\">\n",
              "  <thead>\n",
              "    <tr style=\"text-align: right;\">\n",
              "      <th></th>\n",
              "      <th>title</th>\n",
              "      <th>director</th>\n",
              "      <th>cast</th>\n",
              "      <th>country</th>\n",
              "      <th>date_added</th>\n",
              "      <th>rated by</th>\n",
              "      <th>listed_in</th>\n",
              "      <th>description</th>\n",
              "      <th>type</th>\n",
              "      <th>show_id</th>\n",
              "      <th>release_year</th>\n",
              "      <th>duration</th>\n",
              "      <th>rating</th>\n",
              "    </tr>\n",
              "  </thead>\n",
              "  <tbody>\n",
              "    <tr>\n",
              "      <th>0</th>\n",
              "      <td>Chocolate - 1 Season</td>\n",
              "      <td>Toka McBaror</td>\n",
              "      <td>Ha Ji-won, Yoon Kye-sang, Jang Seung-jo, Kang ...</td>\n",
              "      <td>South Korea</td>\n",
              "      <td>November 30, 2019</td>\n",
              "      <td>TV-14</td>\n",
              "      <td>International TV Shows, Korean TV Shows, Roman...</td>\n",
              "      <td>Brought together by meaningful meals in the pa...</td>\n",
              "      <td>TV Show</td>\n",
              "      <td>81193313</td>\n",
              "      <td>2019</td>\n",
              "      <td>60</td>\n",
              "      <td>6.3</td>\n",
              "    </tr>\n",
              "    <tr>\n",
              "      <th>1</th>\n",
              "      <td>Guatemala: Heart of the Mayan World</td>\n",
              "      <td>Luis Ara, Ignacio Jaunsolo</td>\n",
              "      <td>Christian Morales</td>\n",
              "      <td>Unknown</td>\n",
              "      <td>November 30, 2019</td>\n",
              "      <td>G</td>\n",
              "      <td>Documentaries, International Movies</td>\n",
              "      <td>From Sierra de las Minas to Esquipulas, explor...</td>\n",
              "      <td>Movie</td>\n",
              "      <td>81197050</td>\n",
              "      <td>2019</td>\n",
              "      <td>67</td>\n",
              "      <td>7.2</td>\n",
              "    </tr>\n",
              "    <tr>\n",
              "      <th>2</th>\n",
              "      <td>The Zoya Factor</td>\n",
              "      <td>Abhishek Sharma</td>\n",
              "      <td>Sonam Kapoor, Dulquer Salmaan, Sanjay Kapoor, ...</td>\n",
              "      <td>India</td>\n",
              "      <td>November 30, 2019</td>\n",
              "      <td>TV-14</td>\n",
              "      <td>Comedies, Dramas, International Movies</td>\n",
              "      <td>A goofy copywriter unwittingly convinces the I...</td>\n",
              "      <td>Movie</td>\n",
              "      <td>81213894</td>\n",
              "      <td>2019</td>\n",
              "      <td>135</td>\n",
              "      <td>7.2</td>\n",
              "    </tr>\n",
              "    <tr>\n",
              "      <th>3</th>\n",
              "      <td>Atlantics</td>\n",
              "      <td>Mati Diop</td>\n",
              "      <td>Mama Sane, Amadou Mbow, Ibrahima Traore, Nicol...</td>\n",
              "      <td>France, Senegal, Belgium</td>\n",
              "      <td>November 29, 2019</td>\n",
              "      <td>TV-14</td>\n",
              "      <td>Dramas, Independent Movies, International Movies</td>\n",
              "      <td>Arranged to marry a rich man, young Ada is cru...</td>\n",
              "      <td>Movie</td>\n",
              "      <td>81082007</td>\n",
              "      <td>2019</td>\n",
              "      <td>106</td>\n",
              "      <td>6.3</td>\n",
              "    </tr>\n",
              "    <tr>\n",
              "      <th>4</th>\n",
              "      <td>Chip and Potato - 2 Seasons</td>\n",
              "      <td>Frank Oz</td>\n",
              "      <td>Abigail Oliver, Andrea Libman, Briana Buckmast...</td>\n",
              "      <td>Canada, United Kingdom</td>\n",
              "      <td>November 27, 2019</td>\n",
              "      <td>TV-Y</td>\n",
              "      <td>Kids' TV</td>\n",
              "      <td>Lovable pug Chip starts kindergarten, makes ne...</td>\n",
              "      <td>TV Show</td>\n",
              "      <td>80213643</td>\n",
              "      <td>2019</td>\n",
              "      <td>60</td>\n",
              "      <td>7.7</td>\n",
              "    </tr>\n",
              "  </tbody>\n",
              "</table>\n",
              "</div>"
            ],
            "text/plain": [
              "                                 title  ... rating\n",
              "0                 Chocolate - 1 Season  ...    6.3\n",
              "1  Guatemala: Heart of the Mayan World  ...    7.2\n",
              "2                      The Zoya Factor  ...    7.2\n",
              "3                            Atlantics  ...    6.3\n",
              "4          Chip and Potato - 2 Seasons  ...    7.7\n",
              "\n",
              "[5 rows x 13 columns]"
            ]
          },
          "metadata": {},
          "execution_count": 31
        }
      ]
    },
    {
      "cell_type": "code",
      "metadata": {
        "colab": {
          "base_uri": "https://localhost:8080/"
        },
        "id": "DC9rjStYUFI8",
        "outputId": "3d351a7e-59fd-41a9-9de7-6b850b7afb57"
      },
      "source": [
        "rating_mean = df.groupby('title')['rating'].mean().reset_index()\n",
        "total_rating = df.groupby('title')['rating'].count().reset_index()\n",
        "\n",
        "total_rating_mean = pd.merge(rating_mean, total_rating, on='title', how='inner')\n",
        "total_rating_mean.rename(columns={'rating_x': 'rating_mean',\n",
        "                                  'rating_y': 'total_rating'},\n",
        "                                  inplace=True)\n",
        "# final_df = (total_rating_mean, on='title', how='left',usecols = ['show_id']).dropna()\n",
        "final_df = total_rating_mean\n",
        "\n",
        "final_df = final_df.join(df['show_id'], how='right')\n",
        "final_df = final_df.join(df['rated by'], how='right').dropna()\n",
        "final_df = final_df.join(df['listed_in'], how='right').dropna()\n",
        "final_df.head"
      ],
      "execution_count": null,
      "outputs": [
        {
          "output_type": "execute_result",
          "data": {
            "text/plain": [
              "<bound method NDFrame.head of                                    title  ...                                          listed_in\n",
              "0                                #Selfie  ...  International TV Shows, Korean TV Shows, Roman...\n",
              "1                             #Selfie 69  ...                Documentaries, International Movies\n",
              "2                    10 Days in Sun City  ...             Comedies, Dramas, International Movies\n",
              "3                            10,000 B.C.  ...   Dramas, Independent Movies, International Movies\n",
              "4    100 Things to do Before High School  ...                                           Kids' TV\n",
              "..                                   ...  ...                                                ...\n",
              "978                                 Zero  ...                                  Dramas, Thrillers\n",
              "979                              Zinzana  ...          Comedies, International Movies, Thrillers\n",
              "980                               Zodiac  ...                                           TV Shows\n",
              "981                           Zombieland  ...                          Comedies, Romantic Movies\n",
              "982                       Zoé: Panoramas  ...   Dramas, Independent Movies, International Movies\n",
              "\n",
              "[983 rows x 6 columns]>"
            ]
          },
          "metadata": {},
          "execution_count": 32
        }
      ]
    },
    {
      "cell_type": "code",
      "metadata": {
        "id": "j8LwrgCRUQg9"
      },
      "source": [
        "feature_cols =['show_id','total_rating']\n",
        "X = final_df[feature_cols] # Features\n",
        "y = final_df['rating_mean']"
      ],
      "execution_count": null,
      "outputs": []
    },
    {
      "cell_type": "code",
      "metadata": {
        "colab": {
          "base_uri": "https://localhost:8080/"
        },
        "id": "m7mgy9Y1URpf",
        "outputId": "a810ab2e-02d8-4814-a3a6-df73ff551f74"
      },
      "source": [
        "regressor.fit(X, y) "
      ],
      "execution_count": null,
      "outputs": [
        {
          "output_type": "execute_result",
          "data": {
            "text/plain": [
              "RandomForestRegressor(random_state=0)"
            ]
          },
          "metadata": {},
          "execution_count": 34
        }
      ]
    },
    {
      "cell_type": "code",
      "metadata": {
        "id": "PMC4vgVHUV1t"
      },
      "source": [
        "from sklearn.model_selection import train_test_split\n",
        "train_features, test_features, train_labels, test_labels = train_test_split(X,y, test_size = 0.33, random_state = 42)"
      ],
      "execution_count": null,
      "outputs": []
    },
    {
      "cell_type": "code",
      "metadata": {
        "colab": {
          "base_uri": "https://localhost:8080/"
        },
        "id": "XRcQbp8UUZhL",
        "outputId": "fa8b7f7a-9d66-4680-83ff-c4c35905b1c3"
      },
      "source": [
        "print('Training Features Shape:', train_features.shape)\n",
        "print('Training Labels Shape:', train_labels.shape)\n",
        "print('Testing Features Shape:', test_features.shape)\n",
        "print('Testing Labels Shape:', test_labels.shape)"
      ],
      "execution_count": null,
      "outputs": [
        {
          "output_type": "stream",
          "name": "stdout",
          "text": [
            "Training Features Shape: (658, 2)\n",
            "Training Labels Shape: (658,)\n",
            "Testing Features Shape: (325, 2)\n",
            "Testing Labels Shape: (325,)\n"
          ]
        }
      ]
    },
    {
      "cell_type": "code",
      "metadata": {
        "colab": {
          "base_uri": "https://localhost:8080/"
        },
        "id": "S-qOhr7YUa9k",
        "outputId": "681d9a53-c6ff-4e24-c0dd-96103ee61a4c"
      },
      "source": [
        "predictions = regressor.predict(test_features)\n",
        "errors = abs(predictions - test_labels)\n",
        "print('Mean Absolute Error:', round(np.mean(errors), 2), 'degrees.')"
      ],
      "execution_count": null,
      "outputs": [
        {
          "output_type": "stream",
          "name": "stdout",
          "text": [
            "Mean Absolute Error: 0.5 degrees.\n"
          ]
        }
      ]
    },
    {
      "cell_type": "markdown",
      "metadata": {
        "id": "2-Hb7MoGF9qG"
      },
      "source": [
        "ACCURACY"
      ]
    },
    {
      "cell_type": "code",
      "metadata": {
        "colab": {
          "base_uri": "https://localhost:8080/"
        },
        "id": "-ThEiKkgUdZf",
        "outputId": "b55e31e6-cd5b-434c-c806-df1e7103afb8"
      },
      "source": [
        "# Calculate mean absolute percentage error (MAPE)\n",
        "mape = 100 * (errors / test_labels)\n",
        "# Calculate and display accuracy\n",
        "accuracy = 100 - np.mean(mape)\n",
        "print('Accuracy:', round(accuracy, 2), '%.')"
      ],
      "execution_count": null,
      "outputs": [
        {
          "output_type": "stream",
          "name": "stdout",
          "text": [
            "Accuracy: 93.64 %.\n"
          ]
        }
      ]
    },
    {
      "cell_type": "markdown",
      "metadata": {
        "id": "bZJOiGr_iMc1"
      },
      "source": [
        "**SVM uses boundry to classify objects but since we cannot conclude that all movies belonging to the same class may be similar where knn uses the distance measure ,which would help us find similar movies based on few featurs accurately**"
      ]
    },
    {
      "cell_type": "markdown",
      "metadata": {
        "id": "8waGcJg0n6Ed"
      },
      "source": [
        "#**MODELS**"
      ]
    },
    {
      "cell_type": "markdown",
      "metadata": {
        "id": "KcURggFeGX8d"
      },
      "source": [
        "###**K NEAREST NEIGHBOR**"
      ]
    },
    {
      "cell_type": "markdown",
      "metadata": {
        "id": "mCDOmiSsJGWR"
      },
      "source": [
        "**Inference** - Drama appears to be the most popular genre followed by Comedy"
      ]
    },
    {
      "cell_type": "code",
      "metadata": {
        "id": "i6VDIoVmO4Gb",
        "colab": {
          "base_uri": "https://localhost:8080/"
        },
        "outputId": "2e54263c-b4c2-457f-d7f2-20d8c0890d34"
      },
      "source": [
        "df['listed_in'] = df['listed_in'].str.strip('[]').str.replace(' ','').str.replace(\"'\",'') #Cleaning the listed_in column to find the list of genres\n",
        "df['listed_in'] = df['listed_in'].str.split(',')\n",
        "\n",
        "#plotting the genres in terms of their occurrence to get an insight into movie genres in terms of popularity.\n",
        "plt.subplots(figsize=(10,7))\n",
        "list1 = []\n",
        "for i in df['listed_in']:\n",
        "    list1.extend(i)\n",
        "ax = pd.Series(list1).value_counts()[:10].sort_values(ascending=True).plot.barh(width=0.9,color=sns.color_palette('hls',10))\n",
        "for i, v in enumerate(pd.Series(list1).value_counts()[:10].sort_values(ascending=True).values): \n",
        "    ax.text(.8, i,v,fontsize=12,color='white',weight='bold')\n",
        "plt.title('Top Genres')\n",
        "plt.show()"
      ],
      "execution_count": null,
      "outputs": [
        {
          "output_type": "display_data",
          "data": {
            "image/png": "[encoded data removed]",
            "text/plain": [
              "<Figure size 720x504 with 1 Axes>"
            ]
          },
          "metadata": {
            "needs_background": "light"
          }
        }
      ]
    },
    {
      "cell_type": "markdown",
      "metadata": {
        "id": "DBzcn_iGGKJb"
      },
      "source": [
        "UNIQUE LIST"
      ]
    },
    {
      "cell_type": "code",
      "metadata": {
        "id": "YW6uMsw_QMLR",
        "colab": {
          "base_uri": "https://localhost:8080/"
        },
        "outputId": "ab0a1617-2baa-46f5-c093-683b251cdccc"
      },
      "source": [
        "for i,j in zip(df['listed_in'],df.index):\n",
        "    list2=[]\n",
        "    list2=i\n",
        "    list2.sort()\n",
        "    df.loc[j,'listed_in']=str(list2)\n",
        "df['listed_in'] = df['listed_in'].str.strip('[]').str.replace(' ','').str.replace(\"'\",'')\n",
        "df['listed_in'] = df['listed_in'].str.split(',')\n",
        "genreList = []\n",
        "for index, row in df.iterrows():\n",
        "    listed_in = row[\"listed_in\"]\n",
        "    \n",
        "    for genre in listed_in:\n",
        "        if genre not in genreList:\n",
        "            genreList.append(genre)\n",
        "genreList[:10] #now we have a list with unique genres \n",
        "\n",
        "def binary(genre_list): #Applying the binary() function to the genres column to get the genre_list\n",
        "    binaryList = []\n",
        "    \n",
        "    for genre in genreList:\n",
        "        if genre in genre_list:\n",
        "            binaryList.append(1)\n",
        "        else:\n",
        "            binaryList.append(0)\n",
        "    \n",
        "    return binaryList\n",
        "\n",
        "df['genres_bin'] = df['listed_in'].apply(lambda x: binary(x))\n",
        "df['genres_bin'].head()"
      ],
      "execution_count": null,
      "outputs": [
        {
          "output_type": "execute_result",
          "data": {
            "text/plain": [
              "0    [1, 1, 1, 0, 0, 0, 0, 0, 0, 0, 0, 0, 0, 0, 0, ...\n",
              "1    [0, 0, 0, 1, 1, 0, 0, 0, 0, 0, 0, 0, 0, 0, 0, ...\n",
              "2    [0, 0, 0, 0, 1, 1, 1, 0, 0, 0, 0, 0, 0, 0, 0, ...\n",
              "3    [0, 0, 0, 0, 1, 0, 1, 1, 0, 0, 0, 0, 0, 0, 0, ...\n",
              "4    [0, 0, 0, 0, 0, 0, 0, 0, 1, 0, 0, 0, 0, 0, 0, ...\n",
              "Name: genres_bin, dtype: object"
            ]
          },
          "metadata": {},
          "execution_count": 40
        }
      ]
    },
    {
      "cell_type": "code",
      "metadata": {
        "id": "J9rKgzmkRXMh",
        "colab": {
          "base_uri": "https://localhost:8080/"
        },
        "outputId": "34b8bcd3-0801-498b-9389-0897d68ddc11"
      },
      "source": [
        "df['cast'] = df['cast'].str.strip('[]').str.replace(' ','').str.replace(\"'\",'').str.replace('\"','')\n",
        "df['cast'] = df['cast'].str.split(',')\n",
        "\n",
        "for i,j in zip(df['cast'],df.index):\n",
        "    list2 = []\n",
        "    list2 = i[:4]\n",
        "    df.loc[j,'cast'] = str(list2)\n",
        "df['cast'] = df['cast'].str.strip('[]').str.replace(' ','').str.replace(\"'\",'')\n",
        "df['cast'] = df['cast'].str.split(',')\n",
        "for i,j in zip(df['cast'],df.index):\n",
        "    list2 = []\n",
        "    list2 = i\n",
        "    list2.sort()\n",
        "    df.loc[j,'cast'] = str(list2)\n",
        "df['cast']=df['cast'].str.strip('[]').str.replace(' ','').str.replace(\"'\",'')\n",
        "\n",
        "castList = [] #now we have a list with unique cast of the movies\n",
        "for index, row in df.iterrows():\n",
        "    cast = row[\"cast\"]\n",
        "    \n",
        "    for i in cast:\n",
        "        if i not in castList:\n",
        "            castList.append(i)\n",
        "\n",
        "def binary(cast_list): #Applying the binary() function to the cast column to get the cast_list\n",
        "    binaryList = []\n",
        "    \n",
        "    for genre in castList:\n",
        "        if genre in cast_list:\n",
        "            binaryList.append(1)\n",
        "        else:\n",
        "            binaryList.append(0)\n",
        "    \n",
        "    return binaryList\n",
        "\n",
        "df['cast_bin'] = df['cast'].apply(lambda x: binary(x))\n",
        "df['cast_bin'].head()"
      ],
      "execution_count": null,
      "outputs": [
        {
          "output_type": "execute_result",
          "data": {
            "text/plain": [
              "0    [1, 1, 1, 1, 1, 1, 1, 1, 1, 1, 1, 1, 1, 1, 1, ...\n",
              "1    [0, 1, 0, 1, 0, 0, 1, 1, 0, 0, 0, 1, 0, 0, 0, ...\n",
              "2    [0, 1, 0, 1, 0, 0, 1, 1, 1, 0, 1, 1, 1, 1, 1, ...\n",
              "3    [0, 1, 0, 1, 0, 1, 1, 1, 1, 1, 1, 1, 1, 0, 0, ...\n",
              "4    [0, 1, 0, 1, 0, 0, 1, 1, 1, 1, 0, 1, 1, 0, 0, ...\n",
              "Name: cast_bin, dtype: object"
            ]
          },
          "metadata": {},
          "execution_count": 41
        }
      ]
    },
    {
      "cell_type": "code",
      "metadata": {
        "id": "TJX-yU2PygM8",
        "colab": {
          "base_uri": "https://localhost:8080/"
        },
        "outputId": "f34c7bbb-b9dd-4d1c-c46e-4dd352a52c45"
      },
      "source": [
        "df['director'] = df['director'].str.strip('[]').str.replace(' ','').str.replace(\"'\",'').str.replace('\"','')\n",
        "df['director'] = df['director'].str.split(',')\n",
        "def xstr(s):\n",
        "    if s is None:\n",
        "        return ''\n",
        "    return str(s)\n",
        "df['director'] = df['director'].apply(xstr)\n",
        "\n",
        "directorList=[] #now we have a list with unique directors of movies and TV shows\n",
        "for i in df['director']:\n",
        "    if i not in directorList:\n",
        "        directorList.append(i)\n",
        "\n",
        "def binary(director_list): #Applying the binary() function to the director column to get the director_list\n",
        "    binaryList = []  \n",
        "    for direct in directorList:\n",
        "        if direct in director_list:\n",
        "            binaryList.append(1)\n",
        "        else:\n",
        "            binaryList.append(0)\n",
        "    return binaryList\n",
        "\n",
        "df['director_bin'] = df['director'].apply(lambda x: binary(x))\n",
        "df['director_bin'].head()"
      ],
      "execution_count": null,
      "outputs": [
        {
          "output_type": "execute_result",
          "data": {
            "text/plain": [
              "0    [1, 0, 0, 0, 0, 0, 0, 0, 0, 0, 0, 0, 0, 0, 0, ...\n",
              "1    [0, 1, 0, 0, 0, 0, 0, 0, 0, 0, 0, 0, 0, 0, 0, ...\n",
              "2    [0, 0, 1, 0, 0, 0, 0, 0, 0, 0, 0, 0, 0, 0, 0, ...\n",
              "3    [0, 0, 0, 1, 0, 0, 0, 0, 0, 0, 0, 0, 0, 0, 0, ...\n",
              "4    [0, 0, 0, 0, 1, 0, 0, 0, 0, 0, 0, 0, 0, 0, 0, ...\n",
              "Name: director_bin, dtype: object"
            ]
          },
          "metadata": {},
          "execution_count": 42
        }
      ]
    },
    {
      "cell_type": "code",
      "metadata": {
        "colab": {
          "base_uri": "https://localhost:8080/"
        },
        "id": "ewHtXu9lFrVW",
        "outputId": "28192341-c7c1-43eb-aabd-5519b814ef04"
      },
      "source": [
        "def xstr(s):\n",
        "    if s is None:\n",
        "        return ''\n",
        "    return str(s)\n",
        "df['rated by'] = df['rated by'].apply(xstr)\n",
        "\n",
        "ratedbyList=[] #now we have a list with unique values of rated by\n",
        "for i in df['rated by']:\n",
        "    if i not in ratedbyList:\n",
        "        ratedbyList.append(i)\n",
        "\n",
        "def binary(ratedby_list):  #Applying the binary() function to the rated by column to get the rated by_list\n",
        "    binaryList = []  \n",
        "    for rated in ratedbyList:\n",
        "        if rated in ratedby_list:\n",
        "            binaryList.append(1)\n",
        "        else:\n",
        "            binaryList.append(0)\n",
        "    return binaryList\n",
        "\n",
        "df['rated by_bin'] = df['rated by'].apply(lambda x: binary(x))\n",
        "df['rated by_bin'].head()"
      ],
      "execution_count": null,
      "outputs": [
        {
          "output_type": "execute_result",
          "data": {
            "text/plain": [
              "0    [1, 0, 0, 0, 0, 0, 0, 0, 0, 0]\n",
              "1    [0, 1, 0, 0, 0, 0, 0, 0, 0, 0]\n",
              "2    [1, 0, 0, 0, 0, 0, 0, 0, 0, 0]\n",
              "3    [1, 0, 0, 0, 0, 0, 0, 0, 0, 0]\n",
              "4    [0, 0, 1, 0, 0, 0, 0, 0, 0, 0]\n",
              "Name: rated by_bin, dtype: object"
            ]
          },
          "metadata": {},
          "execution_count": 43
        }
      ]
    },
    {
      "cell_type": "code",
      "metadata": {
        "colab": {
          "base_uri": "https://localhost:8080/"
        },
        "id": "s1SjqTT6HFKd",
        "outputId": "2611f50a-b3e9-47f0-a8b6-dc06c39b8030"
      },
      "source": [
        "def xstr(s):\n",
        "    if s is None:\n",
        "        return ''\n",
        "    return str(s)\n",
        "df['country'] = df['country'].apply(xstr)\n",
        "\n",
        "countryList=[] #now we have a list with unique countries where the movies or TV shows are released\n",
        "for i in df['country']:\n",
        "    if i not in countryList:\n",
        "        countryList.append(i)\n",
        "\n",
        "def binary(country_list): #Applying the binary() function to the country list column to get the country_list\n",
        "    binaryList = []  \n",
        "    for count in countryList:\n",
        "        if count in country_list:\n",
        "            binaryList.append(1)\n",
        "        else:\n",
        "            binaryList.append(0)\n",
        "    return binaryList\n",
        "\n",
        "df['country_bin'] = df['country'].apply(lambda x: binary(x))\n",
        "df['country_bin'].head()"
      ],
      "execution_count": null,
      "outputs": [
        {
          "output_type": "execute_result",
          "data": {
            "text/plain": [
              "0    [1, 0, 0, 0, 0, 0, 0, 0, 0, 0, 0, 0, 0, 0, 0, ...\n",
              "1    [0, 1, 0, 0, 0, 0, 0, 0, 0, 0, 0, 0, 0, 0, 0, ...\n",
              "2    [0, 0, 1, 0, 0, 0, 0, 0, 0, 0, 0, 0, 0, 0, 0, ...\n",
              "3    [0, 0, 0, 1, 0, 0, 0, 0, 0, 0, 0, 1, 0, 0, 0, ...\n",
              "4    [0, 0, 0, 0, 1, 0, 0, 0, 0, 0, 0, 0, 0, 0, 0, ...\n",
              "Name: country_bin, dtype: object"
            ]
          },
          "metadata": {},
          "execution_count": 44
        }
      ]
    },
    {
      "cell_type": "code",
      "metadata": {
        "colab": {
          "base_uri": "https://localhost:8080/"
        },
        "id": "T659iRl9I5qn",
        "outputId": "330cd704-c159-42ec-ac07-838ead7dffed"
      },
      "source": [
        "def xstr(s):\n",
        "    if s is None:\n",
        "        return ''\n",
        "    return str(s)\n",
        "df['type'] = df['type'].apply(xstr)\n",
        "\n",
        "typeList=[] #now we have a list with unique type i.e, movies or TV shows\n",
        "for i in df['type']:\n",
        "    if i not in typeList:\n",
        "        typeList.append(i)\n",
        "\n",
        "def binary(type_list): #Applying the binary() function to the type list column to get the type_list\n",
        "    binaryList = []  \n",
        "    for ty in typeList:\n",
        "        if ty in type_list:\n",
        "            binaryList.append(1)\n",
        "        else:\n",
        "            binaryList.append(0)\n",
        "    return binaryList\n",
        "\n",
        "df['type_bin'] = df['type'].apply(lambda x: binary(x))\n",
        "df['type_bin'].head()"
      ],
      "execution_count": null,
      "outputs": [
        {
          "output_type": "execute_result",
          "data": {
            "text/plain": [
              "0    [1, 0]\n",
              "1    [0, 1]\n",
              "2    [0, 1]\n",
              "3    [0, 1]\n",
              "4    [1, 0]\n",
              "Name: type_bin, dtype: object"
            ]
          },
          "metadata": {},
          "execution_count": 45
        }
      ]
    },
    {
      "cell_type": "code",
      "metadata": {
        "colab": {
          "base_uri": "https://localhost:8080/"
        },
        "id": "tgOzWAXuDv3D",
        "outputId": "7d549e02-c602-40ac-dbdd-83d0f114605e"
      },
      "source": [
        "plt.subplots(figsize=(12,10))\n",
        "ax = df[df['type']!=''].type.value_counts()[:10].sort_values(ascending=True).plot.barh(width=0.9,color=sns.color_palette('muted',40))\n",
        "for i, v in enumerate(df[df['type']!=''].type.value_counts()[:10].sort_values(ascending=True).values): \n",
        "    ax.text(.5, i, v,fontsize=12,color='white',weight='bold')\n",
        "plt.title('Show type with highest movies')\n",
        "plt.show()"
      ],
      "execution_count": null,
      "outputs": [
        {
          "output_type": "display_data",
          "data": {
            "image/png": "[encoded data removed]",
            "text/plain": [
              "<Figure size 864x720 with 1 Axes>"
            ]
          },
          "metadata": {
            "needs_background": "light"
          }
        }
      ]
    },
    {
      "cell_type": "markdown",
      "metadata": {
        "id": "Q6qQivQeMvdK"
      },
      "source": [
        "**INFERENCE:** There are more number of Movies than TV shows"
      ]
    },
    {
      "cell_type": "code",
      "metadata": {
        "id": "yN3Plm_xzKVM"
      },
      "source": [
        "from scipy import spatial\n",
        "#We use Cosine Similarity for finding the similarity between 2 movies(based on the distance).\n",
        "def Similarity(movieId1, movieId2):#The function similarity which will check the similarity between the movies.\n",
        "    a = df.iloc[movieId1]\n",
        "    b = df.iloc[movieId2]\n",
        "    \n",
        "    genresA = a['genres_bin']\n",
        "    genresB = b['genres_bin']\n",
        "    \n",
        "    genreDistance = spatial.distance.cosine(genresA, genresB)\n",
        "\n",
        "    scoreA = a['cast_bin']\n",
        "    scoreB = b['cast_bin']\n",
        "    scoreDistance = spatial.distance.cosine(scoreA, scoreB)\n",
        "    \n",
        "    directA = a['director_bin']\n",
        "    directB = b['director_bin']\n",
        "    directDistance = spatial.distance.cosine(directA, directB)\n",
        "\n",
        "    ratedA = a['rated by_bin']\n",
        "    ratedB = b['rated by_bin']\n",
        "    ratedDistance = spatial.distance.cosine(ratedA, ratedB)\n",
        "\n",
        "    countryA = a['country_bin']\n",
        "    countryB = b['country_bin']\n",
        "    countryDistance = spatial.distance.cosine(countryA, countryB)\n",
        "\n",
        "    typeA = a['type_bin']\n",
        "    typeB = b['type_bin']\n",
        "    typeDistance = spatial.distance.cosine(typeA, typeB)\n",
        "     \n",
        "    l=[genreDistance,directDistance,scoreDistance,ratedDistance,countryDistance,typeDistance]\n",
        "    m = min(l)\n",
        "    min_index = l.index(m)\n",
        "    \n",
        "    return genreDistance + directDistance + scoreDistance + ratedDistance + countryDistance + typeDistance , min_index"
      ],
      "execution_count": null,
      "outputs": []
    },
    {
      "cell_type": "code",
      "metadata": {
        "colab": {
          "base_uri": "https://localhost:8080/"
        },
        "id": "eYZiefFSzVN7",
        "outputId": "c86d0821-8758-4115-ed1b-87c9fd04aa2e"
      },
      "source": [
        "r,r1=Similarity(3,160) #checking similarity between any 2 random movies\n",
        "#The more the distance, the less similar the movies are\n",
        "print(r)"
      ],
      "execution_count": null,
      "outputs": [
        {
          "output_type": "stream",
          "name": "stdout",
          "text": [
            "4.3907282041550575\n"
          ]
        }
      ]
    },
    {
      "cell_type": "code",
      "metadata": {
        "colab": {
          "base_uri": "https://localhost:8080/"
        },
        "id": "Cg1AfaWl0cCS",
        "outputId": "5a6e34b3-c699-43d9-8697-35556199d2f1"
      },
      "source": [
        "#We see that the distance is about 4.3907282041550575, which is high.\n",
        "##It is evident that they are very different movies. Thus the distance is huge.\n",
        "print(df.iloc[3])\n",
        "print(df.iloc[160])"
      ],
      "execution_count": null,
      "outputs": [
        {
          "output_type": "stream",
          "name": "stdout",
          "text": [
            "title                                                   Atlantics\n",
            "director                                             ['MatiDiop']\n",
            "cast              AmadouMbow,IbrahimaTraore,MamaSane,NicoleSougou\n",
            "country                                  France, Senegal, Belgium\n",
            "date_added                                      November 29, 2019\n",
            "rated by                                                    TV-14\n",
            "listed_in        [Dramas, IndependentMovies, InternationalMovies]\n",
            "description     Arranged to marry a rich man, young Ada is cru...\n",
            "type                                                        Movie\n",
            "show_id                                                  81082007\n",
            "release_year                                                 2019\n",
            "duration                                                      106\n",
            "rating                                                        6.3\n",
            "genres_bin      [0, 0, 0, 0, 1, 0, 1, 1, 0, 0, 0, 0, 0, 0, 0, ...\n",
            "cast_bin        [0, 1, 0, 1, 0, 1, 1, 1, 1, 1, 1, 1, 1, 0, 0, ...\n",
            "director_bin    [0, 0, 0, 1, 0, 0, 0, 0, 0, 0, 0, 0, 0, 0, 0, ...\n",
            "rated by_bin                       [1, 0, 0, 0, 0, 0, 0, 0, 0, 0]\n",
            "country_bin     [0, 0, 0, 1, 0, 0, 0, 0, 0, 0, 0, 1, 0, 0, 0, ...\n",
            "type_bin                                                   [0, 1]\n",
            "Name: 3, dtype: object\n",
            "title                                                 Nacho Libre\n",
            "director                                            ['JaredHess']\n",
            "cast            AnadelaReguera,DariusRose,HéctorJiménez,JackBlack\n",
            "country                                     United States, Mexico\n",
            "date_added                                       November 1, 2019\n",
            "rated by                                                       PG\n",
            "listed_in                                [Comedies, SportsMovies]\n",
            "description     When Ignacio learns of an orphanage's financia...\n",
            "type                                                        Movie\n",
            "show_id                                                  70044883\n",
            "release_year                                                 2006\n",
            "duration                                                       92\n",
            "rating                                                        8.4\n",
            "genres_bin      [0, 0, 0, 0, 0, 1, 0, 0, 0, 0, 0, 0, 0, 0, 0, ...\n",
            "cast_bin        [1, 1, 1, 1, 0, 0, 1, 1, 1, 1, 0, 1, 1, 0, 0, ...\n",
            "director_bin    [0, 0, 0, 0, 0, 0, 0, 0, 0, 0, 0, 0, 0, 0, 0, ...\n",
            "rated by_bin                       [0, 1, 0, 0, 0, 1, 0, 0, 0, 0]\n",
            "country_bin     [0, 0, 0, 0, 0, 0, 0, 0, 1, 0, 0, 0, 0, 0, 1, ...\n",
            "type_bin                                                   [0, 1]\n",
            "Name: 160, dtype: object\n"
          ]
        }
      ]
    },
    {
      "cell_type": "code",
      "metadata": {
        "colab": {
          "base_uri": "https://localhost:8080/"
        },
        "id": "VirH7S990tKI",
        "outputId": "66c7ff7a-35ce-4936-c814-91b0e47f06ed"
      },
      "source": [
        "new_id = list(range(0,df.shape[0]))\n",
        "df['new_id']=new_id\n",
        "df=df[['show_id','new_id','title','listed_in','genres_bin','rating','cast','cast_bin','director','director_bin','type','type_bin','country','country_bin','rated by','rated by_bin']]\n",
        "df.head()"
      ],
      "execution_count": null,
      "outputs": [
        {
          "output_type": "execute_result",
          "data": {
            "text/html": [
              "<div>\n",
              "<style scoped>\n",
              "    .dataframe tbody tr th:only-of-type {\n",
              "        vertical-align: middle;\n",
              "    }\n",
              "\n",
              "    .dataframe tbody tr th {\n",
              "        vertical-align: top;\n",
              "    }\n",
              "\n",
              "    .dataframe thead th {\n",
              "        text-align: right;\n",
              "    }\n",
              "</style>\n",
              "<table border=\"1\" class=\"dataframe\">\n",
              "  <thead>\n",
              "    <tr style=\"text-align: right;\">\n",
              "      <th></th>\n",
              "      <th>show_id</th>\n",
              "      <th>new_id</th>\n",
              "      <th>title</th>\n",
              "      <th>listed_in</th>\n",
              "      <th>genres_bin</th>\n",
              "      <th>rating</th>\n",
              "      <th>cast</th>\n",
              "      <th>cast_bin</th>\n",
              "      <th>director</th>\n",
              "      <th>director_bin</th>\n",
              "      <th>type</th>\n",
              "      <th>type_bin</th>\n",
              "      <th>country</th>\n",
              "      <th>country_bin</th>\n",
              "      <th>rated by</th>\n",
              "      <th>rated by_bin</th>\n",
              "    </tr>\n",
              "  </thead>\n",
              "  <tbody>\n",
              "    <tr>\n",
              "      <th>0</th>\n",
              "      <td>81193313</td>\n",
              "      <td>0</td>\n",
              "      <td>Chocolate - 1 Season</td>\n",
              "      <td>[InternationalTVShows, KoreanTVShows, Romantic...</td>\n",
              "      <td>[1, 1, 1, 0, 0, 0, 0, 0, 0, 0, 0, 0, 0, 0, 0, ...</td>\n",
              "      <td>6.3</td>\n",
              "      <td>HaJi-won,JangSeung-jo,KangBu-ja,YoonKye-sang</td>\n",
              "      <td>[1, 1, 1, 1, 1, 1, 1, 1, 1, 1, 1, 1, 1, 1, 1, ...</td>\n",
              "      <td>['TokaMcBaror']</td>\n",
              "      <td>[1, 0, 0, 0, 0, 0, 0, 0, 0, 0, 0, 0, 0, 0, 0, ...</td>\n",
              "      <td>TV Show</td>\n",
              "      <td>[1, 0]</td>\n",
              "      <td>South Korea</td>\n",
              "      <td>[1, 0, 0, 0, 0, 0, 0, 0, 0, 0, 0, 0, 0, 0, 0, ...</td>\n",
              "      <td>TV-14</td>\n",
              "      <td>[1, 0, 0, 0, 0, 0, 0, 0, 0, 0]</td>\n",
              "    </tr>\n",
              "    <tr>\n",
              "      <th>1</th>\n",
              "      <td>81197050</td>\n",
              "      <td>1</td>\n",
              "      <td>Guatemala: Heart of the Mayan World</td>\n",
              "      <td>[Documentaries, InternationalMovies]</td>\n",
              "      <td>[0, 0, 0, 1, 1, 0, 0, 0, 0, 0, 0, 0, 0, 0, 0, ...</td>\n",
              "      <td>7.2</td>\n",
              "      <td>ChristianMorales</td>\n",
              "      <td>[0, 1, 0, 1, 0, 0, 1, 1, 0, 0, 0, 1, 0, 0, 0, ...</td>\n",
              "      <td>['LuisAra', 'IgnacioJaunsolo']</td>\n",
              "      <td>[0, 1, 0, 0, 0, 0, 0, 0, 0, 0, 0, 0, 0, 0, 0, ...</td>\n",
              "      <td>Movie</td>\n",
              "      <td>[0, 1]</td>\n",
              "      <td>Unknown</td>\n",
              "      <td>[0, 1, 0, 0, 0, 0, 0, 0, 0, 0, 0, 0, 0, 0, 0, ...</td>\n",
              "      <td>G</td>\n",
              "      <td>[0, 1, 0, 0, 0, 0, 0, 0, 0, 0]</td>\n",
              "    </tr>\n",
              "    <tr>\n",
              "      <th>2</th>\n",
              "      <td>81213894</td>\n",
              "      <td>2</td>\n",
              "      <td>The Zoya Factor</td>\n",
              "      <td>[Comedies, Dramas, InternationalMovies]</td>\n",
              "      <td>[0, 0, 0, 0, 1, 1, 1, 0, 0, 0, 0, 0, 0, 0, 0, ...</td>\n",
              "      <td>7.2</td>\n",
              "      <td>DulquerSalmaan,SanjayKapoor,SikanderKher,Sonam...</td>\n",
              "      <td>[0, 1, 0, 1, 0, 0, 1, 1, 1, 0, 1, 1, 1, 1, 1, ...</td>\n",
              "      <td>['AbhishekSharma']</td>\n",
              "      <td>[0, 0, 1, 0, 0, 0, 0, 0, 0, 0, 0, 0, 0, 0, 0, ...</td>\n",
              "      <td>Movie</td>\n",
              "      <td>[0, 1]</td>\n",
              "      <td>India</td>\n",
              "      <td>[0, 0, 1, 0, 0, 0, 0, 0, 0, 0, 0, 0, 0, 0, 0, ...</td>\n",
              "      <td>TV-14</td>\n",
              "      <td>[1, 0, 0, 0, 0, 0, 0, 0, 0, 0]</td>\n",
              "    </tr>\n",
              "    <tr>\n",
              "      <th>3</th>\n",
              "      <td>81082007</td>\n",
              "      <td>3</td>\n",
              "      <td>Atlantics</td>\n",
              "      <td>[Dramas, IndependentMovies, InternationalMovies]</td>\n",
              "      <td>[0, 0, 0, 0, 1, 0, 1, 1, 0, 0, 0, 0, 0, 0, 0, ...</td>\n",
              "      <td>6.3</td>\n",
              "      <td>AmadouMbow,IbrahimaTraore,MamaSane,NicoleSougou</td>\n",
              "      <td>[0, 1, 0, 1, 0, 1, 1, 1, 1, 1, 1, 1, 1, 0, 0, ...</td>\n",
              "      <td>['MatiDiop']</td>\n",
              "      <td>[0, 0, 0, 1, 0, 0, 0, 0, 0, 0, 0, 0, 0, 0, 0, ...</td>\n",
              "      <td>Movie</td>\n",
              "      <td>[0, 1]</td>\n",
              "      <td>France, Senegal, Belgium</td>\n",
              "      <td>[0, 0, 0, 1, 0, 0, 0, 0, 0, 0, 0, 1, 0, 0, 0, ...</td>\n",
              "      <td>TV-14</td>\n",
              "      <td>[1, 0, 0, 0, 0, 0, 0, 0, 0, 0]</td>\n",
              "    </tr>\n",
              "    <tr>\n",
              "      <th>4</th>\n",
              "      <td>80213643</td>\n",
              "      <td>4</td>\n",
              "      <td>Chip and Potato - 2 Seasons</td>\n",
              "      <td>[KidsTV]</td>\n",
              "      <td>[0, 0, 0, 0, 0, 0, 0, 0, 1, 0, 0, 0, 0, 0, 0, ...</td>\n",
              "      <td>7.7</td>\n",
              "      <td>AbigailOliver,AndreaLibman,BrianDobson,BrianaB...</td>\n",
              "      <td>[0, 1, 0, 1, 0, 0, 1, 1, 1, 1, 0, 1, 1, 0, 0, ...</td>\n",
              "      <td>['FrankOz']</td>\n",
              "      <td>[0, 0, 0, 0, 1, 0, 0, 0, 0, 0, 0, 0, 0, 0, 0, ...</td>\n",
              "      <td>TV Show</td>\n",
              "      <td>[1, 0]</td>\n",
              "      <td>Canada, United Kingdom</td>\n",
              "      <td>[0, 0, 0, 0, 1, 0, 0, 0, 0, 0, 0, 0, 0, 0, 0, ...</td>\n",
              "      <td>TV-Y</td>\n",
              "      <td>[0, 0, 1, 0, 0, 0, 0, 0, 0, 0]</td>\n",
              "    </tr>\n",
              "  </tbody>\n",
              "</table>\n",
              "</div>"
            ],
            "text/plain": [
              "    show_id  new_id  ... rated by                    rated by_bin\n",
              "0  81193313       0  ...    TV-14  [1, 0, 0, 0, 0, 0, 0, 0, 0, 0]\n",
              "1  81197050       1  ...        G  [0, 1, 0, 0, 0, 0, 0, 0, 0, 0]\n",
              "2  81213894       2  ...    TV-14  [1, 0, 0, 0, 0, 0, 0, 0, 0, 0]\n",
              "3  81082007       3  ...    TV-14  [1, 0, 0, 0, 0, 0, 0, 0, 0, 0]\n",
              "4  80213643       4  ...     TV-Y  [0, 0, 1, 0, 0, 0, 0, 0, 0, 0]\n",
              "\n",
              "[5 rows x 16 columns]"
            ]
          },
          "metadata": {},
          "execution_count": 50
        }
      ]
    },
    {
      "cell_type": "code",
      "metadata": {
        "id": "UEkkBq07hQio"
      },
      "source": [
        "data1 = pd.DataFrame(columns=['Title','Genre','Rating','Reason'])"
      ],
      "execution_count": null,
      "outputs": []
    },
    {
      "cell_type": "code",
      "metadata": {
        "id": "UrVC7Z3s2HkT"
      },
      "source": [
        "import operator\n",
        "def predict_score(name):\n",
        "    #name = input('Enter a movie title: ')\n",
        "    new_movie = df[df['title'].str.contains(name)].iloc[0].to_frame().T\n",
        "    print('Selected Movie: ',new_movie.title.values[0])\n",
        "\n",
        "    def getNeighbors(baseMovie, K):\n",
        "        distances = []\n",
        "        reason_list =[]\n",
        "    \n",
        "        for index, movie in df.iterrows():\n",
        "            if movie['new_id'] != baseMovie['new_id'].values[0]:\n",
        "                dist,reason = Similarity(baseMovie['new_id'].values[0], movie['new_id'])\n",
        "                distances.append((movie['new_id'], dist))\n",
        "                reason_list.append(reason)\n",
        "    \n",
        "        distances.sort(key=operator.itemgetter(1))\n",
        "        neighbors = []    \n",
        "        for x in range(K):\n",
        "            neighbors.append(distances[x])\n",
        "        return neighbors,reason_list\n",
        "\n",
        "    K = 10\n",
        "    avgRating = 0\n",
        "    reason=[]\n",
        "    neighbors,rea = getNeighbors(new_movie, K)\n",
        "    for i in range(0,len(rea)):\n",
        "        if rea[i] == 0:\n",
        "            reason.append('Due to commanality in genre')\n",
        "        elif rea[i] == 1:\n",
        "            reason.append('Due to commanality in director')\n",
        "        elif rea[i] == 2:\n",
        "            reason.append('Due to commanality in cast')\n",
        "        elif rea[i] == 3:\n",
        "            reason.append('Due to commanality in rated by')\n",
        "        elif rea[i] == 4:\n",
        "            reason.append('Due to commanality in country')\n",
        "        else:\n",
        "            reason.append('Due to commanality in the type of show')  \n",
        "    print('\\nRecommended Movies: \\n')\n",
        "    z=0\n",
        "    for neighbor in neighbors:\n",
        "        avgRating = avgRating+df.iloc[neighbor[0]][5]  \n",
        "        data1.loc[z,'Title']=df.iloc[neighbor[0]][2]\n",
        "        data1.loc[z,'Genre']=str(df.iloc[neighbor[0]][3]).strip('[]').replace(' ','')\n",
        "        data1.loc[z,'Rating']=df.iloc[neighbor[0]][5]\n",
        "        data1.loc[z,'Reason']=reason[z]\n",
        "        z=z+1\n",
        "    avgRating = avgRating/K\n",
        "    return data1,avgRating,new_movie\n",
        "    "
      ],
      "execution_count": null,
      "outputs": []
    },
    {
      "cell_type": "code",
      "metadata": {
        "colab": {
          "base_uri": "https://localhost:8080/"
        },
        "id": "1V_oqN3pkA6i",
        "outputId": "2e392244-1b82-4310-fa04-664aa618353e"
      },
      "source": [
        "data1,avgRating,new_movie = predict_score('Atlantics')#10 similar movies are recommended with ratings along with the reason for the recommendation\n",
        "data1.head(10)"
      ],
      "execution_count": null,
      "outputs": [
        {
          "output_type": "stream",
          "name": "stdout",
          "text": [
            "Selected Movie:  Atlantics\n",
            "\n",
            "Recommended Movies: \n",
            "\n"
          ]
        },
        {
          "output_type": "execute_result",
          "data": {
            "text/html": [
              "<div>\n",
              "<style scoped>\n",
              "    .dataframe tbody tr th:only-of-type {\n",
              "        vertical-align: middle;\n",
              "    }\n",
              "\n",
              "    .dataframe tbody tr th {\n",
              "        vertical-align: top;\n",
              "    }\n",
              "\n",
              "    .dataframe thead th {\n",
              "        text-align: right;\n",
              "    }\n",
              "</style>\n",
              "<table border=\"1\" class=\"dataframe\">\n",
              "  <thead>\n",
              "    <tr style=\"text-align: right;\">\n",
              "      <th></th>\n",
              "      <th>Title</th>\n",
              "      <th>Genre</th>\n",
              "      <th>Rating</th>\n",
              "      <th>Reason</th>\n",
              "    </tr>\n",
              "  </thead>\n",
              "  <tbody>\n",
              "    <tr>\n",
              "      <th>0</th>\n",
              "      <td>The Man Without Gravity</td>\n",
              "      <td>'Dramas','InternationalMovies'</td>\n",
              "      <td>9.1</td>\n",
              "      <td>Due to commanality in rated by</td>\n",
              "    </tr>\n",
              "    <tr>\n",
              "      <th>1</th>\n",
              "      <td>Saavat</td>\n",
              "      <td>'Dramas','IndependentMovies','InternationalMov...</td>\n",
              "      <td>7.8</td>\n",
              "      <td>Due to commanality in the type of show</td>\n",
              "    </tr>\n",
              "    <tr>\n",
              "      <th>2</th>\n",
              "      <td>300 Miles to Heaven</td>\n",
              "      <td>'Dramas','InternationalMovies'</td>\n",
              "      <td>8</td>\n",
              "      <td>Due to commanality in rated by</td>\n",
              "    </tr>\n",
              "    <tr>\n",
              "      <th>3</th>\n",
              "      <td>Saawan</td>\n",
              "      <td>'Dramas','IndependentMovies','InternationalMov...</td>\n",
              "      <td>7.4</td>\n",
              "      <td>Due to commanality in cast</td>\n",
              "    </tr>\n",
              "    <tr>\n",
              "      <th>4</th>\n",
              "      <td>Jonaki</td>\n",
              "      <td>'Dramas','IndependentMovies','InternationalMov...</td>\n",
              "      <td>7.3</td>\n",
              "      <td>Due to commanality in rated by</td>\n",
              "    </tr>\n",
              "    <tr>\n",
              "      <th>5</th>\n",
              "      <td>Hamid</td>\n",
              "      <td>'Dramas','IndependentMovies','InternationalMov...</td>\n",
              "      <td>9.8</td>\n",
              "      <td>Due to commanality in the type of show</td>\n",
              "    </tr>\n",
              "    <tr>\n",
              "      <th>6</th>\n",
              "      <td>Do Paise Ki Dhoop Chaar Aane Ki Baarish</td>\n",
              "      <td>'Dramas','IndependentMovies','InternationalMov...</td>\n",
              "      <td>7.7</td>\n",
              "      <td>Due to commanality in rated by</td>\n",
              "    </tr>\n",
              "    <tr>\n",
              "      <th>7</th>\n",
              "      <td>Master Z: The Ip Man Legacy</td>\n",
              "      <td>'Dramas','IndependentMovies','InternationalMov...</td>\n",
              "      <td>7.8</td>\n",
              "      <td>Due to commanality in the type of show</td>\n",
              "    </tr>\n",
              "    <tr>\n",
              "      <th>8</th>\n",
              "      <td>Kia and Cosmos</td>\n",
              "      <td>'Dramas','IndependentMovies','InternationalMov...</td>\n",
              "      <td>6.8</td>\n",
              "      <td>Due to commanality in rated by</td>\n",
              "    </tr>\n",
              "    <tr>\n",
              "      <th>9</th>\n",
              "      <td>In My Country</td>\n",
              "      <td>'Dramas','InternationalMovies'</td>\n",
              "      <td>6.8</td>\n",
              "      <td>Due to commanality in rated by</td>\n",
              "    </tr>\n",
              "  </tbody>\n",
              "</table>\n",
              "</div>"
            ],
            "text/plain": [
              "                                     Title  ...                                  Reason\n",
              "0                  The Man Without Gravity  ...          Due to commanality in rated by\n",
              "1                                   Saavat  ...  Due to commanality in the type of show\n",
              "2                      300 Miles to Heaven  ...          Due to commanality in rated by\n",
              "3                                   Saawan  ...              Due to commanality in cast\n",
              "4                                   Jonaki  ...          Due to commanality in rated by\n",
              "5                                    Hamid  ...  Due to commanality in the type of show\n",
              "6  Do Paise Ki Dhoop Chaar Aane Ki Baarish  ...          Due to commanality in rated by\n",
              "7              Master Z: The Ip Man Legacy  ...  Due to commanality in the type of show\n",
              "8                           Kia and Cosmos  ...          Due to commanality in rated by\n",
              "9                            In My Country  ...          Due to commanality in rated by\n",
              "\n",
              "[10 rows x 4 columns]"
            ]
          },
          "metadata": {},
          "execution_count": 53
        }
      ]
    },
    {
      "cell_type": "code",
      "metadata": {
        "colab": {
          "base_uri": "https://localhost:8080/"
        },
        "id": "kmnC3r7mkJZh",
        "outputId": "d8ce4dbc-2321-4864-c9f7-4ff8583935c2"
      },
      "source": [
        "print('The predicted rating for %s is: %f' %(new_movie['title'].values[0],avgRating))\n",
        "print('The actual rating for %s is %f' %(new_movie['title'].values[0],new_movie['rating']))"
      ],
      "execution_count": null,
      "outputs": [
        {
          "output_type": "stream",
          "name": "stdout",
          "text": [
            "The predicted rating for Atlantics is: 7.850000\n",
            "The actual rating for Atlantics is 6.300000\n"
          ]
        }
      ]
    },
    {
      "cell_type": "markdown",
      "metadata": {
        "id": "71JxMoJ0TXtu"
      },
      "source": [
        "###**COSINE SIMILARITY MATRIX METHOD**"
      ]
    },
    {
      "cell_type": "code",
      "metadata": {
        "colab": {
          "base_uri": "https://localhost:8080/",
          "height": 536
        },
        "id": "tyvPxptDQptB",
        "outputId": "d5f14255-9c65-473b-9b1c-08f75d3fd5f4"
      },
      "source": [
        "data = pd.read_csv('/content/Netflix_title_final.csv')\n",
        "data.rename( columns={'Unnamed: 0':'movie_index'}, inplace=True )\n",
        "data.head(5)"
      ],
      "execution_count": null,
      "outputs": [
        {
          "output_type": "execute_result",
          "data": {
            "text/html": [
              "<div>\n",
              "<style scoped>\n",
              "    .dataframe tbody tr th:only-of-type {\n",
              "        vertical-align: middle;\n",
              "    }\n",
              "\n",
              "    .dataframe tbody tr th {\n",
              "        vertical-align: top;\n",
              "    }\n",
              "\n",
              "    .dataframe thead th {\n",
              "        text-align: right;\n",
              "    }\n",
              "</style>\n",
              "<table border=\"1\" class=\"dataframe\">\n",
              "  <thead>\n",
              "    <tr style=\"text-align: right;\">\n",
              "      <th></th>\n",
              "      <th>movie_index</th>\n",
              "      <th>title</th>\n",
              "      <th>director</th>\n",
              "      <th>cast</th>\n",
              "      <th>country</th>\n",
              "      <th>date_added</th>\n",
              "      <th>rated by</th>\n",
              "      <th>listed_in</th>\n",
              "      <th>description</th>\n",
              "      <th>type</th>\n",
              "      <th>show_id</th>\n",
              "      <th>release_year</th>\n",
              "      <th>duration</th>\n",
              "      <th>rating</th>\n",
              "    </tr>\n",
              "  </thead>\n",
              "  <tbody>\n",
              "    <tr>\n",
              "      <th>0</th>\n",
              "      <td>0</td>\n",
              "      <td>Chocolate - 1 Season</td>\n",
              "      <td>Toka McBaror</td>\n",
              "      <td>Ha Ji-won, Yoon Kye-sang, Jang Seung-jo, Kang ...</td>\n",
              "      <td>South Korea</td>\n",
              "      <td>November 30, 2019</td>\n",
              "      <td>TV-14</td>\n",
              "      <td>International TV Shows, Korean TV Shows, Roman...</td>\n",
              "      <td>Brought together by meaningful meals in the pa...</td>\n",
              "      <td>TV Show</td>\n",
              "      <td>81193313</td>\n",
              "      <td>2019</td>\n",
              "      <td>60</td>\n",
              "      <td>6.3</td>\n",
              "    </tr>\n",
              "    <tr>\n",
              "      <th>1</th>\n",
              "      <td>1</td>\n",
              "      <td>Guatemala: Heart of the Mayan World</td>\n",
              "      <td>Luis Ara, Ignacio Jaunsolo</td>\n",
              "      <td>Christian Morales</td>\n",
              "      <td>Unknown</td>\n",
              "      <td>November 30, 2019</td>\n",
              "      <td>G</td>\n",
              "      <td>Documentaries, International Movies</td>\n",
              "      <td>From Sierra de las Minas to Esquipulas, explor...</td>\n",
              "      <td>Movie</td>\n",
              "      <td>81197050</td>\n",
              "      <td>2019</td>\n",
              "      <td>67</td>\n",
              "      <td>7.2</td>\n",
              "    </tr>\n",
              "    <tr>\n",
              "      <th>2</th>\n",
              "      <td>2</td>\n",
              "      <td>The Zoya Factor</td>\n",
              "      <td>Abhishek Sharma</td>\n",
              "      <td>Sonam Kapoor, Dulquer Salmaan, Sanjay Kapoor, ...</td>\n",
              "      <td>India</td>\n",
              "      <td>November 30, 2019</td>\n",
              "      <td>TV-14</td>\n",
              "      <td>Comedies, Dramas, International Movies</td>\n",
              "      <td>A goofy copywriter unwittingly convinces the I...</td>\n",
              "      <td>Movie</td>\n",
              "      <td>81213894</td>\n",
              "      <td>2019</td>\n",
              "      <td>135</td>\n",
              "      <td>7.2</td>\n",
              "    </tr>\n",
              "    <tr>\n",
              "      <th>3</th>\n",
              "      <td>3</td>\n",
              "      <td>Atlantics</td>\n",
              "      <td>Mati Diop</td>\n",
              "      <td>Mama Sane, Amadou Mbow, Ibrahima Traore, Nicol...</td>\n",
              "      <td>France, Senegal, Belgium</td>\n",
              "      <td>November 29, 2019</td>\n",
              "      <td>TV-14</td>\n",
              "      <td>Dramas, Independent Movies, International Movies</td>\n",
              "      <td>Arranged to marry a rich man, young Ada is cru...</td>\n",
              "      <td>Movie</td>\n",
              "      <td>81082007</td>\n",
              "      <td>2019</td>\n",
              "      <td>106</td>\n",
              "      <td>6.3</td>\n",
              "    </tr>\n",
              "    <tr>\n",
              "      <th>4</th>\n",
              "      <td>4</td>\n",
              "      <td>Chip and Potato - 2 Seasons</td>\n",
              "      <td>Frank Oz</td>\n",
              "      <td>Abigail Oliver, Andrea Libman, Briana Buckmast...</td>\n",
              "      <td>Canada, United Kingdom</td>\n",
              "      <td>November 27, 2019</td>\n",
              "      <td>TV-Y</td>\n",
              "      <td>Kids' TV</td>\n",
              "      <td>Lovable pug Chip starts kindergarten, makes ne...</td>\n",
              "      <td>TV Show</td>\n",
              "      <td>80213643</td>\n",
              "      <td>2019</td>\n",
              "      <td>60</td>\n",
              "      <td>7.7</td>\n",
              "    </tr>\n",
              "  </tbody>\n",
              "</table>\n",
              "</div>"
            ],
            "text/plain": [
              "   movie_index                                title  ... duration rating\n",
              "0            0                 Chocolate - 1 Season  ...       60    6.3\n",
              "1            1  Guatemala: Heart of the Mayan World  ...       67    7.2\n",
              "2            2                      The Zoya Factor  ...      135    7.2\n",
              "3            3                            Atlantics  ...      106    6.3\n",
              "4            4          Chip and Potato - 2 Seasons  ...       60    7.7\n",
              "\n",
              "[5 rows x 14 columns]"
            ]
          },
          "metadata": {},
          "execution_count": 55
        }
      ]
    },
    {
      "cell_type": "code",
      "metadata": {
        "colab": {
          "base_uri": "https://localhost:8080/",
          "height": 206
        },
        "id": "K32lz20aRNPW",
        "outputId": "0a866bdf-8df9-456e-de24-65aa3f1fd947"
      },
      "source": [
        "columns=['cast','director','listed_in','title']\n",
        "data[columns].head()"
      ],
      "execution_count": null,
      "outputs": [
        {
          "output_type": "execute_result",
          "data": {
            "text/html": [
              "<div>\n",
              "<style scoped>\n",
              "    .dataframe tbody tr th:only-of-type {\n",
              "        vertical-align: middle;\n",
              "    }\n",
              "\n",
              "    .dataframe tbody tr th {\n",
              "        vertical-align: top;\n",
              "    }\n",
              "\n",
              "    .dataframe thead th {\n",
              "        text-align: right;\n",
              "    }\n",
              "</style>\n",
              "<table border=\"1\" class=\"dataframe\">\n",
              "  <thead>\n",
              "    <tr style=\"text-align: right;\">\n",
              "      <th></th>\n",
              "      <th>cast</th>\n",
              "      <th>director</th>\n",
              "      <th>listed_in</th>\n",
              "      <th>title</th>\n",
              "    </tr>\n",
              "  </thead>\n",
              "  <tbody>\n",
              "    <tr>\n",
              "      <th>0</th>\n",
              "      <td>Ha Ji-won, Yoon Kye-sang, Jang Seung-jo, Kang ...</td>\n",
              "      <td>Toka McBaror</td>\n",
              "      <td>International TV Shows, Korean TV Shows, Roman...</td>\n",
              "      <td>Chocolate - 1 Season</td>\n",
              "    </tr>\n",
              "    <tr>\n",
              "      <th>1</th>\n",
              "      <td>Christian Morales</td>\n",
              "      <td>Luis Ara, Ignacio Jaunsolo</td>\n",
              "      <td>Documentaries, International Movies</td>\n",
              "      <td>Guatemala: Heart of the Mayan World</td>\n",
              "    </tr>\n",
              "    <tr>\n",
              "      <th>2</th>\n",
              "      <td>Sonam Kapoor, Dulquer Salmaan, Sanjay Kapoor, ...</td>\n",
              "      <td>Abhishek Sharma</td>\n",
              "      <td>Comedies, Dramas, International Movies</td>\n",
              "      <td>The Zoya Factor</td>\n",
              "    </tr>\n",
              "    <tr>\n",
              "      <th>3</th>\n",
              "      <td>Mama Sane, Amadou Mbow, Ibrahima Traore, Nicol...</td>\n",
              "      <td>Mati Diop</td>\n",
              "      <td>Dramas, Independent Movies, International Movies</td>\n",
              "      <td>Atlantics</td>\n",
              "    </tr>\n",
              "    <tr>\n",
              "      <th>4</th>\n",
              "      <td>Abigail Oliver, Andrea Libman, Briana Buckmast...</td>\n",
              "      <td>Frank Oz</td>\n",
              "      <td>Kids' TV</td>\n",
              "      <td>Chip and Potato - 2 Seasons</td>\n",
              "    </tr>\n",
              "  </tbody>\n",
              "</table>\n",
              "</div>"
            ],
            "text/plain": [
              "                                                cast  ...                                title\n",
              "0  Ha Ji-won, Yoon Kye-sang, Jang Seung-jo, Kang ...  ...                 Chocolate - 1 Season\n",
              "1                                  Christian Morales  ...  Guatemala: Heart of the Mayan World\n",
              "2  Sonam Kapoor, Dulquer Salmaan, Sanjay Kapoor, ...  ...                      The Zoya Factor\n",
              "3  Mama Sane, Amadou Mbow, Ibrahima Traore, Nicol...  ...                            Atlantics\n",
              "4  Abigail Oliver, Andrea Libman, Briana Buckmast...  ...          Chip and Potato - 2 Seasons\n",
              "\n",
              "[5 rows x 4 columns]"
            ]
          },
          "metadata": {},
          "execution_count": 56
        }
      ]
    },
    {
      "cell_type": "code",
      "metadata": {
        "id": "nJj7am3tRQcW"
      },
      "source": [
        "def get_important_features(data1):\n",
        "  important_features = []\n",
        "  for i in range(0,data1.shape[0]):\n",
        "    important_features.append(data1['cast'][i]+' '+data1['director'][i]+' '+data1['listed_in'][i]+' '+data1['title'][i])\n",
        "  \n",
        "  return important_features"
      ],
      "execution_count": null,
      "outputs": []
    },
    {
      "cell_type": "code",
      "metadata": {
        "id": "p6dDRWWoRTEg",
        "colab": {
          "base_uri": "https://localhost:8080/"
        },
        "outputId": "8d0e2d8e-8418-46f5-ddfb-125ea125a691"
      },
      "source": [
        "data['important_features']=get_important_features(data)\n",
        "#Convert the text to a matrix of token counts\n",
        "print(data)\n",
        "cm = CountVectorizer().fit_transform(data['important_features'])"
      ],
      "execution_count": null,
      "outputs": [
        {
          "output_type": "stream",
          "name": "stdout",
          "text": [
            "     movie_index  ...                                 important_features\n",
            "0              0  ...  Ha Ji-won, Yoon Kye-sang, Jang Seung-jo, Kang ...\n",
            "1              1  ...  Christian Morales Luis Ara, Ignacio Jaunsolo D...\n",
            "2              2  ...  Sonam Kapoor, Dulquer Salmaan, Sanjay Kapoor, ...\n",
            "3              3  ...  Mama Sane, Amadou Mbow, Ibrahima Traore, Nicol...\n",
            "4              4  ...  Abigail Oliver, Andrea Libman, Briana Buckmast...\n",
            "..           ...  ...                                                ...\n",
            "980         1002  ...  Samuel L. Jackson, Kurt Russell, Jennifer Jaso...\n",
            "981         1003  ...  Katherine Heigl, Gerard Butler, Eric Winter, J...\n",
            "982         1004  ...  Rahul Khanna, Arjun Mathur, Shivani Ghai, Moni...\n",
            "983         1005  ...  Aaron Stanford, Teri Reeves, Sean Patrick Flan...\n",
            "984         1006  ...  Tim Robinson, Andy Samberg, Sam Richardson, Wi...\n",
            "\n",
            "[985 rows x 15 columns]\n"
          ]
        }
      ]
    },
    {
      "cell_type": "markdown",
      "metadata": {
        "id": "zSUAsmXx_9M-"
      },
      "source": [
        "**COSINE SIMILARITY MATRIX**"
      ]
    },
    {
      "cell_type": "code",
      "metadata": {
        "colab": {
          "base_uri": "https://localhost:8080/"
        },
        "id": "VIQlb-rMRVYo",
        "outputId": "61c38368-ed6c-4d41-8916-99e027edce82"
      },
      "source": [
        "cs = cosine_similarity(cm)\n",
        "print(cs)"
      ],
      "execution_count": null,
      "outputs": [
        {
          "output_type": "stream",
          "name": "stdout",
          "text": [
            "[[1.         0.03651484 0.02672612 ... 0.03086067 0.         0.09561829]\n",
            " [0.03651484 1.         0.14638501 ... 0.16903085 0.         0.        ]\n",
            " [0.02672612 0.14638501 1.         ... 0.20619652 0.03509312 0.03194383]\n",
            " ...\n",
            " [0.03086067 0.16903085 0.20619652 ... 1.         0.04052204 0.        ]\n",
            " [0.         0.         0.03509312 ... 0.04052204 1.         0.        ]\n",
            " [0.09561829 0.         0.03194383 ... 0.         0.         1.        ]]\n"
          ]
        }
      ]
    },
    {
      "cell_type": "code",
      "metadata": {
        "colab": {
          "base_uri": "https://localhost:8080/"
        },
        "id": "pUsMo7_SRYdq",
        "outputId": "9abcc1d3-67ef-458d-b9cc-43fc79317ae1"
      },
      "source": [
        "cs.shape"
      ],
      "execution_count": null,
      "outputs": [
        {
          "output_type": "execute_result",
          "data": {
            "text/plain": [
              "(985, 985)"
            ]
          },
          "metadata": {},
          "execution_count": 60
        }
      ]
    },
    {
      "cell_type": "code",
      "metadata": {
        "id": "CPB8vOmJRa6P"
      },
      "source": [
        "title1 = 'Atlantics'\n",
        "movie_id = data[data['title'] == title1]['movie_index'].values[0]\n",
        "scores=list(enumerate(cs[movie_id]))"
      ],
      "execution_count": null,
      "outputs": []
    },
    {
      "cell_type": "code",
      "metadata": {
        "colab": {
          "base_uri": "https://localhost:8080/"
        },
        "id": "CHxapO3gRln_",
        "outputId": "69f63373-56b2-455d-d087-4d12e2b6279b"
      },
      "source": [
        "#List of enumerations for similarity scores [ (movie_id, similarity_score) ]\n",
        "#Sorting the scores in decreasing order\n",
        "sorted_scores = sorted(scores,key = lambda x:x[1], reverse=True)\n",
        "sorted_scores=sorted_scores[1:]\n",
        "print(sorted_scores)"
      ],
      "execution_count": null,
      "outputs": [
        {
          "output_type": "stream",
          "name": "stdout",
          "text": [
            "[(48, 0.3415650255319866), (667, 0.3299831645537221), (768, 0.3099652099390333), (947, 0.30123203803835463), (886, 0.2788866755113585), (982, 0.2788866755113585), (38, 0.27386127875258304), (505, 0.272474630456533), (27, 0.26648544566940835), (483, 0.26648544566940835), (597, 0.2581988897471611), (434, 0.2506402059138015), (329, 0.2459549291242073), (877, 0.2459549291242073), (241, 0.24152294576982392), (967, 0.24152294576982392), (348, 0.2373222262672836), (738, 0.2373222262672836), (200, 0.23354968324845685), (887, 0.23333333333333328), (866, 0.2295390425243835), (43, 0.22592402852876597), (710, 0.22592402852876597), (8, 0.223606797749979), (651, 0.22247460415730486), (737, 0.22140372138502382), (100, 0.2201927530252721), (681, 0.21917850187980228), (863, 0.21917850187980228), (74, 0.21908902300206645), (897, 0.21602468994692864), (46, 0.21516574145596762), (316, 0.21516574145596762), (375, 0.21516574145596762), (132, 0.21483446221182984), (450, 0.21300321680756457), (755, 0.20942695414584772), (474, 0.2073221072156823), (612, 0.20701966780270623), (691, 0.20701966780270623), (854, 0.20701966780270623), (861, 0.20701966780270623), (223, 0.20464687117164015), (14, 0.20412414523193148), (555, 0.20412414523193148), (253, 0.20341905108624309), (309, 0.20341905108624309), (700, 0.20341905108624309), (752, 0.20254787341673333), (152, 0.19999999999999996), (677, 0.19999999999999996), (221, 0.19959308197927034), (395, 0.19959308197927034), (674, 0.19920476822239894), (977, 0.19920476822239894), (86, 0.19674775073518586), (362, 0.19674775073518586), (923, 0.19518001458970663), (210, 0.19462473604038072), (665, 0.19462473604038072), (673, 0.19462473604038072), (687, 0.19462473604038072), (759, 0.19462473604038072), (80, 0.19364916731037082), (901, 0.19364916731037082), (757, 0.19034674690672024), (73, 0.18856180831641264), (310, 0.18856180831641264), (765, 0.18856180831641264), (794, 0.18856180831641264), (364, 0.1878672873255448), (10, 0.18257418583505536), (156, 0.18257418583505536), (390, 0.18257418583505536), (399, 0.18257418583505536), (437, 0.18257418583505536), (568, 0.18257418583505536), (653, 0.18257418583505536), (684, 0.18257418583505536), (686, 0.18257418583505536), (713, 0.18257418583505536), (463, 0.18009006755629925), (123, 0.17902871850985821), (486, 0.17902871850985821), (487, 0.17902871850985821), (488, 0.17902871850985821), (944, 0.17895849739771974), (969, 0.17712297710801905), (144, 0.17568209223157663), (976, 0.17568209223157663), (155, 0.17251638983558854), (596, 0.17251638983558854), (760, 0.17251638983558854), (970, 0.17213259316477408), (47, 0.1695158759052026), (213, 0.1695158759052026), (377, 0.1695158759052026), (522, 0.1695158759052026), (635, 0.1695158759052026), (949, 0.1695158759052026), (950, 0.1690308509457033), (185, 0.1675415633166782), (527, 0.1675415633166782), (878, 0.1675415633166782), (968, 0.1675415633166782), (383, 0.16666666666666663), (452, 0.16666666666666663), (524, 0.16666666666666663), (533, 0.16666666666666663), (632, 0.16666666666666663), (974, 0.16666666666666663), (427, 0.1651445647689541), (682, 0.1651445647689541), (808, 0.1651445647689541), (902, 0.1651445647689541), (926, 0.1651445647689541), (246, 0.16395645894598823), (748, 0.16395645894598823), (145, 0.1632993161855452), (501, 0.1632993161855452), (515, 0.1632993161855452), (692, 0.1632993161855452), (736, 0.1632993161855452), (330, 0.16137430609197567), (372, 0.16137430609197567), (419, 0.16137430609197567), (833, 0.16137430609197567), (230, 0.15936381457791915), (554, 0.15936381457791915), (558, 0.15936381457791915), (405, 0.15891043154093204), (92, 0.158113883008419), (68, 0.15655607277128736), (82, 0.15655607277128736), (98, 0.15655607277128736), (466, 0.15655607277128736), (91, 0.15569978883230456), (528, 0.15569978883230456), (582, 0.15569978883230456), (812, 0.15569978883230456), (228, 0.15430334996209188), (398, 0.15430334996209188), (655, 0.1522773975253762), (769, 0.1522773975253762), (828, 0.1522773975253762), (638, 0.15214515486254612), (65, 0.15191090506255), (206, 0.14907119849998599), (236, 0.14907119849998599), (278, 0.14907119849998599), (353, 0.14907119849998599), (354, 0.14907119849998599), (471, 0.14907119849998599), (611, 0.14907119849998599), (756, 0.14907119849998599), (873, 0.14907119849998599), (910, 0.14907119849998599), (953, 0.14907119849998599), (860, 0.14808721943977307), (693, 0.14638501094227996), (384, 0.14617633655117152), (559, 0.14617633655117152), (932, 0.14617633655117152), (6, 0.1460593486680443), (18, 0.1460593486680443), (235, 0.1460593486680443), (322, 0.1460593486680443), (386, 0.1460593486680443), (648, 0.1460593486680443), (649, 0.1460593486680443), (706, 0.1460593486680443), (708, 0.1460593486680443), (747, 0.1460593486680443), (758, 0.1460593486680443), (170, 0.14322297480788657), (432, 0.14322297480788657), (539, 0.14322297480788657), (705, 0.14322297480788657), (818, 0.14322297480788657), (880, 0.14322297480788657), (332, 0.14256648712805026), (730, 0.14256648712805026), (952, 0.14256648712805026), (1, 0.14142135623730948), (71, 0.14142135623730948), (534, 0.14085904245475275), (60, 0.1405456737852613), (211, 0.1405456737852613), (227, 0.1405456737852613), (356, 0.1405456737852613), (397, 0.1405456737852613), (480, 0.1405456737852613), (603, 0.1405456737852613), (722, 0.1405456737852613), (920, 0.1405456737852613), (940, 0.1405456737852613), (2, 0.13801311186847082), (232, 0.13801311186847082), (431, 0.13801311186847082), (577, 0.13801311186847082), (581, 0.13801311186847082), (656, 0.13801311186847082), (856, 0.13801311186847082), (945, 0.13801311186847082), (972, 0.13801311186847082), (531, 0.13762047064079508), (511, 0.13693063937629152), (520, 0.13693063937629152), (36, 0.13561270072416207), (64, 0.13561270072416207), (233, 0.13561270072416207), (588, 0.13561270072416207), (601, 0.13561270072416207), (676, 0.13459547551454137), (237, 0.1333333333333333), (244, 0.1333333333333333), (261, 0.1333333333333333), (345, 0.1333333333333333), (464, 0.1333333333333333), (473, 0.1333333333333333), (532, 0.1333333333333333), (716, 0.1333333333333333), (720, 0.1333333333333333), (761, 0.1333333333333333), (847, 0.1333333333333333), (458, 0.1328422328310143), (482, 0.1328422328310143), (666, 0.1328422328310143), (918, 0.1328422328310143), (245, 0.13116516715679058), (341, 0.13116516715679058), (893, 0.13116516715679058), (42, 0.12909944487358055), (89, 0.12909944487358055), (167, 0.12909944487358055), (218, 0.12909944487358055), (226, 0.12909944487358055), (436, 0.12909944487358055), (454, 0.12909944487358055), (599, 0.12909944487358055), (683, 0.12909944487358055), (703, 0.12909944487358055), (933, 0.12909944487358055), (154, 0.12712834523274563), (285, 0.12712834523274563), (349, 0.12712834523274563), (506, 0.12712834523274563), (580, 0.12712834523274563), (696, 0.12712834523274563), (816, 0.12712834523274563), (876, 0.12712834523274563), (699, 0.12565617248750865), (67, 0.12524485821702988), (171, 0.12524485821702988), (204, 0.12524485821702988), (219, 0.12524485821702988), (252, 0.12524485821702988), (277, 0.12524485821702988), (334, 0.12524485821702988), (380, 0.12524485821702988), (422, 0.12524485821702988), (484, 0.12524485821702988), (662, 0.12524485821702988), (670, 0.12524485821702988), (868, 0.12524485821702988), (94, 0.12344267996967351), (229, 0.12344267996967351), (326, 0.12344267996967351), (433, 0.1224744871391589), (697, 0.1224744871391589), (275, 0.1217161238900369), (630, 0.1217161238900369), (658, 0.1217161238900369), (843, 0.1217161238900369), (844, 0.1217161238900369), (321, 0.12006004503753284), (445, 0.12006004503753284), (698, 0.11952286093343936), (701, 0.11952286093343936), (739, 0.11952286093343936), (766, 0.11884567213538211), (598, 0.11846977555181847), (826, 0.11846977555181847), (841, 0.11846977555181847), (675, 0.11694106924093722), (481, 0.11677484162422842), (605, 0.11677484162422842), (56, 0.11547005383792515), (911, 0.11547005383792515), (470, 0.11420804814403215), (560, 0.11420804814403215), (671, 0.11420804814403215), (704, 0.11420804814403215), (735, 0.11420804814403215), (814, 0.11420804814403215), (825, 0.11420804814403215), (391, 0.1140531897024402), (22, 0.1126872339638022), (595, 0.1126872339638022), (971, 0.1126872339638022), (129, 0.1118033988749895), (176, 0.1118033988749895), (267, 0.1118033988749895), (478, 0.1118033988749895), (502, 0.1118033988749895), (545, 0.1118033988749895), (979, 0.1118033988749895), (461, 0.1113692092779409), (449, 0.11009637651263605), (9, 0.10954451150103323), (385, 0.10954451150103323), (414, 0.10954451150103323), (457, 0.10954451150103323), (564, 0.10954451150103323), (634, 0.10954451150103323), (754, 0.10954451150103323), (909, 0.10954451150103323), (881, 0.10767638041163309), (32, 0.10741723110591492), (195, 0.10741723110591492), (271, 0.10741723110591492), (413, 0.10741723110591492), (519, 0.10741723110591492), (541, 0.10741723110591492), (576, 0.10741723110591492), (809, 0.10741723110591492), (924, 0.10741723110591492), (925, 0.10741723110591492), (721, 0.10652472825826148), (5, 0.10540925533894599), (70, 0.10540925533894599), (81, 0.10540925533894599), (169, 0.10540925533894599), (203, 0.10540925533894599), (415, 0.10540925533894599), (535, 0.10540925533894599), (544, 0.10540925533894599), (584, 0.10540925533894599), (806, 0.10540925533894599), (140, 0.1043281061914602), (608, 0.1043281061914602), (124, 0.10350983390135311), (217, 0.10350983390135311), (361, 0.10350983390135311), (426, 0.10350983390135311), (543, 0.10350983390135311), (726, 0.10350983390135311), (864, 0.10350983390135311), (896, 0.10350983390135311), (553, 0.1022619985129827), (935, 0.1022619985129827), (62, 0.10170952554312154), (166, 0.10170952554312154), (209, 0.10170952554312154), (465, 0.10170952554312154), (569, 0.10170952554312154), (614, 0.10170952554312154), (852, 0.10170952554312154), (867, 0.10170952554312154), (31, 0.10127393670836667), (510, 0.10127393670836667), (817, 0.10127393670836667), (907, 0.10127393670836667), (161, 0.09999999999999998), (165, 0.09999999999999998), (179, 0.09999999999999998), (408, 0.09999999999999998), (573, 0.09999999999999998), (834, 0.09999999999999998), (97, 0.09837387536759293), (248, 0.09837387536759293), (312, 0.09837387536759293), (542, 0.09837387536759293), (862, 0.09837387536759293), (879, 0.09837387536759293), (934, 0.09837387536759293), (973, 0.09837387536759293), (795, 0.09759000729485331), (49, 0.09682458365518541), (117, 0.09682458365518541), (351, 0.09682458365518541), (439, 0.09682458365518541), (600, 0.09682458365518541), (723, 0.09682458365518541), (745, 0.09682458365518541), (807, 0.09682458365518541), (871, 0.09682458365518541), (29, 0.09534625892455922), (148, 0.09534625892455922), (224, 0.09534625892455922), (496, 0.09534625892455922), (575, 0.09534625892455922), (751, 0.09534625892455922), (690, 0.09428090415820632), (839, 0.0939336436627724), (981, 0.0939336436627724), (17, 0.09258200997725513), (396, 0.09258200997725513), (602, 0.09258200997725513), (957, 0.09258200997725513), (12, 0.09128709291752768), (333, 0.09128709291752768), (350, 0.09128709291752768), (685, 0.09128709291752768), (848, 0.09128709291752768), (853, 0.09128709291752768), (642, 0.09004503377814962), (937, 0.09004503377814962), (438, 0.08885233166386385), (930, 0.08885233166386385), (127, 0.08856148855400953), (276, 0.08856148855400953), (585, 0.08770580193070292), (922, 0.08770580193070292), (763, 0.08660254037844387), (290, 0.08606629658238704), (435, 0.08606629658238704), (503, 0.08606629658238704), (283, 0.08553989227683015), (381, 0.08451542547285165), (15, 0.0837707816583391), (694, 0.0837707816583391), (7, 0.08352690695845567), (594, 0.08352690695845567), (572, 0.08257228238447704), (135, 0.08164965809277261), (196, 0.0816496580927726), (443, 0.0816496580927726), (591, 0.0816496580927726), (110, 0.07968190728895957), (130, 0.07968190728895957), (143, 0.07968190728895957), (659, 0.07968190728895957), (702, 0.0790569415042095), (274, 0.07824607964359515), (906, 0.07824607964359515), (109, 0.07784989441615228), (192, 0.07784989441615228), (557, 0.07745966692414832), (574, 0.07745966692414832), (928, 0.07745966692414832), (52, 0.0761386987626881), (305, 0.0761386987626881), (423, 0.0761386987626881), (811, 0.0761386987626881), (914, 0.0761386987626881), (45, 0.07453559924999299), (102, 0.07453559924999299), (141, 0.07453559924999299), (303, 0.07453559924999299), (363, 0.07453559924999299), (368, 0.07453559924999299), (728, 0.07453559924999299), (900, 0.07453559924999299), (921, 0.07453559924999299), (95, 0.07302967433402215), (126, 0.07302967433402215), (137, 0.07302967433402215), (331, 0.07302967433402215), (335, 0.07302967433402215), (401, 0.07302967433402215), (549, 0.07302967433402215), (749, 0.07302967433402215), (915, 0.07302967433402215), (975, 0.07302967433402215), (803, 0.07254762501100116), (57, 0.07161148740394328), (125, 0.07161148740394328), (546, 0.07161148740394328), (800, 0.07161148740394328), (837, 0.07161148740394328), (838, 0.07161148740394328), (764, 0.07071067811865474), (44, 0.07027283689263066), (77, 0.07027283689263066), (79, 0.07027283689263066), (194, 0.07027283689263066), (565, 0.07027283689263066), (650, 0.07027283689263066), (746, 0.07027283689263066), (796, 0.07027283689263066), (96, 0.06900655593423541), (103, 0.06900655593423541), (162, 0.06900655593423541), (256, 0.06900655593423541), (460, 0.06900655593423541), (462, 0.06900655593423541), (467, 0.06900655593423541), (797, 0.06900655593423541), (51, 0.06780635036208103), (337, 0.06780635036208103), (358, 0.06780635036208103), (785, 0.06780635036208103), (884, 0.06780635036208103), (891, 0.06780635036208103), (899, 0.06780635036208103), (37, 0.06666666666666665), (107, 0.06666666666666665), (111, 0.06666666666666665), (139, 0.06666666666666665), (160, 0.06666666666666665), (344, 0.06666666666666665), (451, 0.06666666666666665), (788, 0.06666666666666665), (889, 0.06666666666666665), (890, 0.06666666666666665), (913, 0.06666666666666665), (20, 0.06558258357839529), (105, 0.06558258357839529), (106, 0.06558258357839529), (108, 0.06558258357839529), (112, 0.06558258357839529), (205, 0.06558258357839529), (444, 0.06558258357839529), (472, 0.06558258357839529), (562, 0.06558258357839529), (606, 0.06558258357839529), (695, 0.06558258357839529), (823, 0.06558258357839529), (870, 0.06558258357839529), (883, 0.06558258357839529), (943, 0.06558258357839529), (114, 0.06454972243679027), (159, 0.06454972243679027), (255, 0.06454972243679027), (497, 0.06454972243679027), (647, 0.06454972243679027), (750, 0.06454972243679027), (798, 0.06454972243679027), (936, 0.06454972243679027), (61, 0.06356417261637282), (131, 0.06356417261637282), (138, 0.06356417261637282), (182, 0.06356417261637282), (293, 0.06356417261637282), (637, 0.06356417261637282), (727, 0.06356417261637282), (284, 0.06262242910851494), (302, 0.06262242910851494), (493, 0.06262242910851494), (498, 0.06262242910851494), (717, 0.06262242910851494), (784, 0.06262242910851494), (72, 0.061721339984836754), (239, 0.061721339984836754), (610, 0.061721339984836754), (786, 0.061721339984836754), (791, 0.061721339984836754), (719, 0.06085806194501845), (827, 0.06085806194501845), (954, 0.06085806194501845), (33, 0.06003002251876642), (429, 0.06003002251876642), (636, 0.06003002251876642), (725, 0.06003002251876642), (343, 0.05923488777590923), (359, 0.05923488777590923), (360, 0.05923488777590923), (518, 0.05923488777590923), (836, 0.05923488777590923), (113, 0.05847053462046861), (790, 0.05847053462046861), (151, 0.057735026918962574), (198, 0.057735026918962574), (297, 0.057735026918962574), (514, 0.057735026918962574), (142, 0.0570265948512201), (347, 0.0570265948512201), (373, 0.0570265948512201), (964, 0.0570265948512201), (835, 0.0563436169819011), (960, 0.05568460463897045), (242, 0.05504818825631803), (272, 0.05504818825631803), (714, 0.05504818825631803), (318, 0.053838190205816545), (291, 0.05326236412913074), (325, 0.05326236412913074), (251, 0.052704627669472995), (767, 0.052704627669472995), (962, 0.0521640530957301), (374, 0.05163977794943222), (119, 0.05063696835418333), (265, 0.05063696835418333), (770, 0.049690399499995326), (116, 0.04714045207910316), (301, 0.046373889576016826), (813, 0.04494665749754947), (264, 0.04428074427700476), (268, 0.04428074427700476), (499, 0.04428074427700476), (680, 0.04333513900174394), (842, 0.04303314829119352), (172, 0.0408248290463863), (561, 0.0408248290463863), (654, 0.0408248290463863), (296, 0.03984095364447979), (711, 0.03984095364447979), (633, 0.039605901719066965), (270, 0.03892494720807614), (11, 0.03806934938134405), (88, 0.03806934938134405), (183, 0.03806934938134405), (563, 0.03806934938134405), (668, 0.03806934938134405), (741, 0.03806934938134405), (214, 0.037267799624996496), (266, 0.037267799624996496), (273, 0.037267799624996496), (340, 0.037267799624996496), (403, 0.037267799624996496), (430, 0.037267799624996496), (453, 0.037267799624996496), (346, 0.03651483716701107), (428, 0.03651483716701107), (978, 0.03651483716701107), (21, 0.03580574370197164), (178, 0.03580574370197164), (240, 0.03580574370197164), (269, 0.03580574370197164), (352, 0.03580574370197164), (447, 0.03580574370197164), (709, 0.03580574370197164), (712, 0.03580574370197164), (820, 0.03580574370197164), (858, 0.03580574370197164), (938, 0.03580574370197164), (177, 0.03513641844631533), (388, 0.03513641844631533), (416, 0.03513641844631533), (477, 0.03513641844631533), (801, 0.03513641844631533), (905, 0.03513641844631533), (58, 0.034503277967117704), (150, 0.034503277967117704), (164, 0.034503277967117704), (234, 0.034503277967117704), (586, 0.034050261230349946), (118, 0.03390317518104052), (566, 0.03390317518104052), (888, 0.03390317518104052), (927, 0.03390317518104052), (983, 0.03390317518104052), (168, 0.033333333333333326), (207, 0.033333333333333326), (448, 0.033333333333333326), (589, 0.033333333333333326), (840, 0.033333333333333326), (41, 0.032791291789197645), (54, 0.032791291789197645), (163, 0.032791291789197645), (189, 0.032791291789197645), (410, 0.032791291789197645), (548, 0.032791291789197645), (249, 0.03227486121839514), (263, 0.03227486121839514), (382, 0.03227486121839514), (551, 0.03227486121839514), (961, 0.03178208630818641), (69, 0.03131121455425747), (417, 0.03131121455425747), (526, 0.03131121455425747), (781, 0.03131121455425747), (859, 0.03131121455425747), (929, 0.030860669992418377), (13, 0.030429030972509225), (59, 0.030429030972509225), (536, 0.030429030972509225), (874, 0.030429030972509225), (966, 0.030429030972509225), (78, 0.029617443887954616), (951, 0.029235267310234306), (958, 0.029235267310234306), (181, 0.028867513459481287), (753, 0.028867513459481287), (202, 0.02851329742561005), (550, 0.02817180849095055), (652, 0.02817180849095055), (24, 0.027842302319485226), (25, 0.027842302319485226), (421, 0.027524094128159014), (327, 0.02721655269759087), (707, 0.02721655269759087), (772, 0.02663118206456537), (491, 0.02608202654786505), (762, 0.02608202654786505), (963, 0.02608202654786505), (0, 0.02581988897471611), (402, 0.02581988897471611), (208, 0.025565499628245676), (404, 0.025318484177091666), (87, 0.02507849312877596), (669, 0.024845199749997663), (508, 0.02439750182371333), (734, 0.02439750182371333), (199, 0.02357022603955158), (931, 0.02357022603955158), (578, 0.02337622911060922), (509, 0.02041241452319315), (469, 0.02016194596363779), (28, 0.01790287185098582), (4, 0.0), (16, 0.0), (19, 0.0), (23, 0.0), (26, 0.0), (30, 0.0), (34, 0.0), (35, 0.0), (39, 0.0), (40, 0.0), (50, 0.0), (53, 0.0), (55, 0.0), (63, 0.0), (66, 0.0), (75, 0.0), (76, 0.0), (83, 0.0), (84, 0.0), (85, 0.0), (90, 0.0), (93, 0.0), (99, 0.0), (101, 0.0), (104, 0.0), (115, 0.0), (120, 0.0), (121, 0.0), (122, 0.0), (128, 0.0), (133, 0.0), (134, 0.0), (136, 0.0), (146, 0.0), (147, 0.0), (149, 0.0), (153, 0.0), (157, 0.0), (158, 0.0), (173, 0.0), (174, 0.0), (175, 0.0), (180, 0.0), (184, 0.0), (186, 0.0), (187, 0.0), (188, 0.0), (190, 0.0), (191, 0.0), (193, 0.0), (197, 0.0), (201, 0.0), (212, 0.0), (215, 0.0), (216, 0.0), (220, 0.0), (222, 0.0), (225, 0.0), (231, 0.0), (238, 0.0), (243, 0.0), (247, 0.0), (250, 0.0), (254, 0.0), (257, 0.0), (258, 0.0), (259, 0.0), (260, 0.0), (262, 0.0), (279, 0.0), (280, 0.0), (281, 0.0), (282, 0.0), (286, 0.0), (287, 0.0), (288, 0.0), (289, 0.0), (292, 0.0), (294, 0.0), (295, 0.0), (298, 0.0), (299, 0.0), (300, 0.0), (304, 0.0), (306, 0.0), (307, 0.0), (308, 0.0), (311, 0.0), (313, 0.0), (314, 0.0), (315, 0.0), (317, 0.0), (319, 0.0), (320, 0.0), (323, 0.0), (324, 0.0), (328, 0.0), (336, 0.0), (338, 0.0), (339, 0.0), (342, 0.0), (355, 0.0), (357, 0.0), (365, 0.0), (366, 0.0), (367, 0.0), (369, 0.0), (370, 0.0), (371, 0.0), (376, 0.0), (378, 0.0), (379, 0.0), (387, 0.0), (389, 0.0), (392, 0.0), (393, 0.0), (394, 0.0), (400, 0.0), (406, 0.0), (407, 0.0), (409, 0.0), (411, 0.0), (412, 0.0), (418, 0.0), (420, 0.0), (424, 0.0), (425, 0.0), (440, 0.0), (441, 0.0), (442, 0.0), (446, 0.0), (455, 0.0), (456, 0.0), (459, 0.0), (468, 0.0), (475, 0.0), (476, 0.0), (479, 0.0), (485, 0.0), (489, 0.0), (490, 0.0), (492, 0.0), (494, 0.0), (495, 0.0), (500, 0.0), (504, 0.0), (507, 0.0), (512, 0.0), (513, 0.0), (516, 0.0), (517, 0.0), (521, 0.0), (523, 0.0), (525, 0.0), (529, 0.0), (530, 0.0), (537, 0.0), (538, 0.0), (540, 0.0), (547, 0.0), (552, 0.0), (556, 0.0), (567, 0.0), (570, 0.0), (571, 0.0), (579, 0.0), (583, 0.0), (587, 0.0), (590, 0.0), (592, 0.0), (593, 0.0), (604, 0.0), (607, 0.0), (609, 0.0), (613, 0.0), (615, 0.0), (616, 0.0), (617, 0.0), (618, 0.0), (619, 0.0), (620, 0.0), (621, 0.0), (622, 0.0), (623, 0.0), (624, 0.0), (625, 0.0), (626, 0.0), (627, 0.0), (628, 0.0), (629, 0.0), (631, 0.0), (639, 0.0), (640, 0.0), (641, 0.0), (643, 0.0), (644, 0.0), (645, 0.0), (646, 0.0), (657, 0.0), (660, 0.0), (661, 0.0), (663, 0.0), (664, 0.0), (672, 0.0), (678, 0.0), (679, 0.0), (688, 0.0), (689, 0.0), (715, 0.0), (718, 0.0), (724, 0.0), (729, 0.0), (731, 0.0), (732, 0.0), (733, 0.0), (740, 0.0), (742, 0.0), (743, 0.0), (744, 0.0), (771, 0.0), (773, 0.0), (774, 0.0), (775, 0.0), (776, 0.0), (777, 0.0), (778, 0.0), (779, 0.0), (780, 0.0), (782, 0.0), (783, 0.0), (787, 0.0), (789, 0.0), (792, 0.0), (793, 0.0), (799, 0.0), (802, 0.0), (804, 0.0), (805, 0.0), (810, 0.0), (815, 0.0), (819, 0.0), (821, 0.0), (822, 0.0), (824, 0.0), (829, 0.0), (830, 0.0), (831, 0.0), (832, 0.0), (845, 0.0), (846, 0.0), (849, 0.0), (850, 0.0), (851, 0.0), (855, 0.0), (857, 0.0), (865, 0.0), (869, 0.0), (872, 0.0), (875, 0.0), (882, 0.0), (885, 0.0), (892, 0.0), (894, 0.0), (895, 0.0), (898, 0.0), (903, 0.0), (904, 0.0), (908, 0.0), (912, 0.0), (916, 0.0), (917, 0.0), (919, 0.0), (939, 0.0), (941, 0.0), (942, 0.0), (946, 0.0), (948, 0.0), (955, 0.0), (956, 0.0), (959, 0.0), (965, 0.0), (980, 0.0), (984, 0.0)]\n"
          ]
        }
      ]
    },
    {
      "cell_type": "code",
      "metadata": {
        "colab": {
          "base_uri": "https://localhost:8080/"
        },
        "id": "ZYGDnOglRpdh",
        "outputId": "001a4d99-0db7-47cf-b889-2f2f9ff6e65d"
      },
      "source": [
        "j=0\n",
        "print(\"10 most recommended movie to \",title1, 'are:\\n')\n",
        "print(\"Users who watched \"+title1+\" also watched these movies \\n\" )\n",
        "for item in sorted_scores:\n",
        "  movie_title = data[data.movie_index == item[0]]['title'].values[0]\n",
        "  rating = data[data.movie_index == item[0]]['rating'].values[0]\n",
        "  print(j+1,\"\\t\",movie_title,\" \",rating)\n",
        "  j=j+1\n",
        "  if j > 9:\n",
        "    break"
      ],
      "execution_count": null,
      "outputs": [
        {
          "output_type": "stream",
          "name": "stdout",
          "text": [
            "10 most recommended movie to  Atlantics are:\n",
            "\n",
            "Users who watched Atlantics also watched these movies \n",
            "\n",
            "1 \t Love, Rosie   8.0\n",
            "2 \t Good Night, and Good Luck   9.8\n",
            "3 \t C Kkompany   6.8\n",
            "4 \t Like Arrows   8.9\n",
            "5 \t Once Upon a Time in Mumbai Dobaara!   7.6\n",
            "6 \t Hong Kong West Side Stories - 1 Season   9.1\n",
            "7 \t Carriers   7.9\n",
            "8 \t Invader Zim: Enter the Florpus   7.2\n",
            "9 \t The Time Machine   7.9\n",
            "10 \t Falling Inn Love   6.8\n"
          ]
        }
      ]
    }
  ]
}